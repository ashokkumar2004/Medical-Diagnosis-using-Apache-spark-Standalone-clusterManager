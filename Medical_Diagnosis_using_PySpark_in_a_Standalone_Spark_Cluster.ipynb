{
  "cells": [
    {
      "cell_type": "code",
      "execution_count": null,
      "metadata": {
        "colab": {
          "base_uri": "https://localhost:8080/"
        },
        "id": "_emKY-y6ki4H",
        "outputId": "540cda3d-c0ba-442b-a726-97829279de58"
      },
      "outputs": [
        {
          "output_type": "stream",
          "name": "stdout",
          "text": [
            "Collecting pyspark\n",
            "  Downloading pyspark-3.5.0.tar.gz (316.9 MB)\n",
            "\u001b[2K     \u001b[90m━━━━━━━━━━━━━━━━━━━━━━━━━━━━━━━━━━━━━━━━\u001b[0m \u001b[32m316.9/316.9 MB\u001b[0m \u001b[31m1.9 MB/s\u001b[0m eta \u001b[36m0:00:00\u001b[0m\n",
            "\u001b[?25h  Preparing metadata (setup.py) ... \u001b[?25l\u001b[?25hdone\n",
            "Requirement already satisfied: py4j==0.10.9.7 in /usr/local/lib/python3.10/dist-packages (from pyspark) (0.10.9.7)\n",
            "Building wheels for collected packages: pyspark\n",
            "  Building wheel for pyspark (setup.py) ... \u001b[?25l\u001b[?25hdone\n",
            "  Created wheel for pyspark: filename=pyspark-3.5.0-py2.py3-none-any.whl size=317425344 sha256=729da12e5444447a0de3cdcef3bff352e135b06a988d820d36143fd6cab597e8\n",
            "  Stored in directory: /root/.cache/pip/wheels/41/4e/10/c2cf2467f71c678cfc8a6b9ac9241e5e44a01940da8fbb17fc\n",
            "Successfully built pyspark\n",
            "Installing collected packages: pyspark\n",
            "Successfully installed pyspark-3.5.0\n"
          ]
        }
      ],
      "source": [
        "!pip install pyspark"
      ]
    },
    {
      "cell_type": "code",
      "execution_count": null,
      "metadata": {
        "id": "eOfq6Xg5m0h3"
      },
      "outputs": [],
      "source": [
        "from pyspark.sql import SparkSession\n",
        "spark=SparkSession.builder.master(\"local[1]\").appName(\"Medical Diagnosis\").getOrCreate()\n",
        "sc=spark.sparkContext"
      ]
    },
    {
      "cell_type": "code",
      "execution_count": null,
      "metadata": {
        "colab": {
          "base_uri": "https://localhost:8080/",
          "height": 35
        },
        "id": "lak4ch8GWigL",
        "outputId": "7554e656-bf44-4d09-ef0e-c41495009866"
      },
      "outputs": [
        {
          "output_type": "execute_result",
          "data": {
            "text/plain": [
              "'{\"username\":\"ashokkumarr21alr008\",\"key\":\"294691ccfa3249554d6bc8205bcb25f3\"}'"
            ],
            "application/vnd.google.colaboratory.intrinsic+json": {
              "type": "string"
            }
          },
          "metadata": {},
          "execution_count": 3
        }
      ],
      "source": [
        "'''{\"username\":\"ashokkumarr21alr008\",\"key\":\"294691ccfa3249554d6bc8205bcb25f3\"}'''"
      ]
    },
    {
      "cell_type": "code",
      "execution_count": null,
      "metadata": {
        "colab": {
          "base_uri": "https://localhost:8080/"
        },
        "id": "v8VXHzLGXfhC",
        "outputId": "92f6a2b4-9523-4cdd-a203-a57d777241fe"
      },
      "outputs": [
        {
          "output_type": "stream",
          "name": "stdout",
          "text": [
            "Collecting opendatasets\n",
            "  Downloading opendatasets-0.1.22-py3-none-any.whl (15 kB)\n",
            "Requirement already satisfied: tqdm in /usr/local/lib/python3.10/dist-packages (from opendatasets) (4.66.1)\n",
            "Requirement already satisfied: kaggle in /usr/local/lib/python3.10/dist-packages (from opendatasets) (1.5.16)\n",
            "Requirement already satisfied: click in /usr/local/lib/python3.10/dist-packages (from opendatasets) (8.1.7)\n",
            "Requirement already satisfied: six>=1.10 in /usr/local/lib/python3.10/dist-packages (from kaggle->opendatasets) (1.16.0)\n",
            "Requirement already satisfied: certifi in /usr/local/lib/python3.10/dist-packages (from kaggle->opendatasets) (2023.7.22)\n",
            "Requirement already satisfied: python-dateutil in /usr/local/lib/python3.10/dist-packages (from kaggle->opendatasets) (2.8.2)\n",
            "Requirement already satisfied: requests in /usr/local/lib/python3.10/dist-packages (from kaggle->opendatasets) (2.31.0)\n",
            "Requirement already satisfied: python-slugify in /usr/local/lib/python3.10/dist-packages (from kaggle->opendatasets) (8.0.1)\n",
            "Requirement already satisfied: urllib3 in /usr/local/lib/python3.10/dist-packages (from kaggle->opendatasets) (2.0.7)\n",
            "Requirement already satisfied: bleach in /usr/local/lib/python3.10/dist-packages (from kaggle->opendatasets) (6.1.0)\n",
            "Requirement already satisfied: webencodings in /usr/local/lib/python3.10/dist-packages (from bleach->kaggle->opendatasets) (0.5.1)\n",
            "Requirement already satisfied: text-unidecode>=1.3 in /usr/local/lib/python3.10/dist-packages (from python-slugify->kaggle->opendatasets) (1.3)\n",
            "Requirement already satisfied: charset-normalizer<4,>=2 in /usr/local/lib/python3.10/dist-packages (from requests->kaggle->opendatasets) (3.3.1)\n",
            "Requirement already satisfied: idna<4,>=2.5 in /usr/local/lib/python3.10/dist-packages (from requests->kaggle->opendatasets) (3.4)\n",
            "Installing collected packages: opendatasets\n",
            "Successfully installed opendatasets-0.1.22\n"
          ]
        }
      ],
      "source": [
        "!pip install opendatasets"
      ]
    },
    {
      "cell_type": "code",
      "execution_count": null,
      "metadata": {
        "colab": {
          "base_uri": "https://localhost:8080/"
        },
        "id": "r1PrnrOVWOC0",
        "outputId": "9cd921c9-c078-4076-9151-4e33b60fa9d0"
      },
      "outputs": [
        {
          "output_type": "stream",
          "name": "stdout",
          "text": [
            "Please provide your Kaggle credentials to download this dataset. Learn more: http://bit.ly/kaggle-creds\n",
            "Your Kaggle username: ashokkumarr21alr008\n",
            "Your Kaggle Key: ··········\n",
            "Downloading stroke-prediction-dataset.zip to ./stroke-prediction-dataset\n"
          ]
        },
        {
          "output_type": "stream",
          "name": "stderr",
          "text": [
            "100%|██████████| 67.4k/67.4k [00:00<00:00, 46.7MB/s]"
          ]
        },
        {
          "output_type": "stream",
          "name": "stdout",
          "text": [
            "\n"
          ]
        },
        {
          "output_type": "stream",
          "name": "stderr",
          "text": [
            "\n"
          ]
        }
      ],
      "source": [
        "import opendatasets as od\n",
        "od.download('https://www.kaggle.com/datasets/fedesoriano/stroke-prediction-dataset')"
      ]
    },
    {
      "cell_type": "code",
      "execution_count": null,
      "metadata": {
        "id": "FmdACiCFmzhD"
      },
      "outputs": [],
      "source": [
        "# Load the dataset\n",
        "df = spark.read.csv(\"/content/stroke-prediction-dataset\", header=True, inferSchema=True)"
      ]
    },
    {
      "cell_type": "markdown",
      "source": [
        "#*PREPROCESSING*#\n"
      ],
      "metadata": {
        "id": "qyNLFAj-zq-s"
      }
    },
    {
      "cell_type": "markdown",
      "metadata": {
        "id": "7Rc9IcHNiEO7"
      },
      "source": []
    },
    {
      "cell_type": "code",
      "execution_count": null,
      "metadata": {
        "id": "9_W19D6rkxTk"
      },
      "outputs": [],
      "source": [
        "# Preprocess the data\n",
        "df = df.dropna() # Remove any missing values\n"
      ]
    },
    {
      "cell_type": "code",
      "execution_count": null,
      "metadata": {
        "id": "XWBGCMBJnYMY"
      },
      "outputs": [],
      "source": [
        "df = df.withColumnRenamed(\"stroke\", \"stroke_occurred\") # Rename the label column to \"stroke_occurred"
      ]
    },
    {
      "cell_type": "code",
      "execution_count": null,
      "metadata": {
        "id": "3pJDhHAgnZSy"
      },
      "outputs": [],
      "source": [
        "from pyspark.ml.feature import VectorAssembler\n",
        "from pyspark.ml.classification import LogisticRegression\n",
        "from pyspark.ml.evaluation import BinaryClassificationEvaluator"
      ]
    },
    {
      "cell_type": "code",
      "execution_count": null,
      "metadata": {
        "colab": {
          "base_uri": "https://localhost:8080/"
        },
        "id": "S7rzdpaR6rdH",
        "outputId": "16255f20-90d9-473f-ea01-5366a97893ce"
      },
      "outputs": [
        {
          "output_type": "stream",
          "name": "stdout",
          "text": [
            "+-----+------+----+------------+-------------+------------+-------------+--------------+-----------------+----+---------------+---------------+\n",
            "|   id|gender| age|hypertension|heart_disease|ever_married|    work_type|Residence_type|avg_glucose_level| bmi| smoking_status|stroke_occurred|\n",
            "+-----+------+----+------------+-------------+------------+-------------+--------------+-----------------+----+---------------+---------------+\n",
            "| 9046|  Male|67.0|           0|            1|         Yes|      Private|         Urban|           228.69|36.6|formerly smoked|              1|\n",
            "|51676|Female|61.0|           0|            0|         Yes|Self-employed|         Rural|           202.21| N/A|   never smoked|              1|\n",
            "|31112|  Male|80.0|           0|            1|         Yes|      Private|         Rural|           105.92|32.5|   never smoked|              1|\n",
            "|60182|Female|49.0|           0|            0|         Yes|      Private|         Urban|           171.23|34.4|         smokes|              1|\n",
            "| 1665|Female|79.0|           1|            0|         Yes|Self-employed|         Rural|           174.12|  24|   never smoked|              1|\n",
            "|56669|  Male|81.0|           0|            0|         Yes|      Private|         Urban|           186.21|  29|formerly smoked|              1|\n",
            "|53882|  Male|74.0|           1|            1|         Yes|      Private|         Rural|            70.09|27.4|   never smoked|              1|\n",
            "|10434|Female|69.0|           0|            0|          No|      Private|         Urban|            94.39|22.8|   never smoked|              1|\n",
            "|27419|Female|59.0|           0|            0|         Yes|      Private|         Rural|            76.15| N/A|        Unknown|              1|\n",
            "|60491|Female|78.0|           0|            0|         Yes|      Private|         Urban|            58.57|24.2|        Unknown|              1|\n",
            "|12109|Female|81.0|           1|            0|         Yes|      Private|         Rural|            80.43|29.7|   never smoked|              1|\n",
            "|12095|Female|61.0|           0|            1|         Yes|     Govt_job|         Rural|           120.46|36.8|         smokes|              1|\n",
            "|12175|Female|54.0|           0|            0|         Yes|      Private|         Urban|           104.51|27.3|         smokes|              1|\n",
            "| 8213|  Male|78.0|           0|            1|         Yes|      Private|         Urban|           219.84| N/A|        Unknown|              1|\n",
            "| 5317|Female|79.0|           0|            1|         Yes|      Private|         Urban|           214.09|28.2|   never smoked|              1|\n",
            "|58202|Female|50.0|           1|            0|         Yes|Self-employed|         Rural|           167.41|30.9|   never smoked|              1|\n",
            "|56112|  Male|64.0|           0|            1|         Yes|      Private|         Urban|           191.61|37.5|         smokes|              1|\n",
            "|34120|  Male|75.0|           1|            0|         Yes|      Private|         Urban|           221.29|25.8|         smokes|              1|\n",
            "|27458|Female|60.0|           0|            0|          No|      Private|         Urban|            89.22|37.8|   never smoked|              1|\n",
            "|25226|  Male|57.0|           0|            1|          No|     Govt_job|         Urban|           217.08| N/A|        Unknown|              1|\n",
            "+-----+------+----+------------+-------------+------------+-------------+--------------+-----------------+----+---------------+---------------+\n",
            "only showing top 20 rows\n",
            "\n"
          ]
        }
      ],
      "source": [
        "df.show()"
      ]
    },
    {
      "cell_type": "code",
      "execution_count": null,
      "metadata": {
        "id": "8HRZJsj6bTA2",
        "colab": {
          "base_uri": "https://localhost:8080/"
        },
        "outputId": "4cf34bfe-f6ec-4631-f1f7-b60ac329e4d4"
      },
      "outputs": [
        {
          "output_type": "execute_result",
          "data": {
            "text/plain": [
              "DataFrame[id: int, gender: string, age: double, hypertension: int, heart_disease: int, ever_married: string, work_type: string, Residence_type: string, avg_glucose_level: double, bmi: string, smoking_status: string, stroke_occurred: int]"
            ]
          },
          "metadata": {},
          "execution_count": 11
        }
      ],
      "source": [
        "df"
      ]
    },
    {
      "cell_type": "code",
      "execution_count": null,
      "metadata": {
        "id": "h2L_FCxlaO3i",
        "colab": {
          "base_uri": "https://localhost:8080/"
        },
        "outputId": "35d66a42-2542-4987-e76b-ee6db357fdd3"
      },
      "outputs": [
        {
          "output_type": "stream",
          "name": "stdout",
          "text": [
            "The DataFrame has 5110 rows and 12 columns.\n"
          ]
        }
      ],
      "source": [
        "num_rows = df.count()\n",
        "num_cols = len(df.columns)\n",
        "print(f'The DataFrame has {num_rows} rows and {num_cols} columns.')"
      ]
    },
    {
      "cell_type": "code",
      "execution_count": null,
      "metadata": {
        "id": "wLtp0BpzW360"
      },
      "outputs": [],
      "source": [
        "# import packages\n",
        "from pyspark.ml.feature import StringIndexer, OneHotEncoder\n",
        "# conversion\n",
        "indexer = StringIndexer(inputCol='gender', outputCol='gender1').fit(df)\n",
        "indexed_df = indexer.transform(df)"
      ]
    },
    {
      "cell_type": "code",
      "execution_count": null,
      "metadata": {
        "id": "gaXzMdznXgaD",
        "colab": {
          "base_uri": "https://localhost:8080/"
        },
        "outputId": "978a1136-08f8-4fac-c8d4-454ac616c4a2"
      },
      "outputs": [
        {
          "output_type": "stream",
          "name": "stdout",
          "text": [
            "+-----+----+------------+-------------+------------+-------------+--------------+-----------------+----+---------------+---------------+-------+\n",
            "|   id| age|hypertension|heart_disease|ever_married|    work_type|Residence_type|avg_glucose_level| bmi| smoking_status|stroke_occurred|gender1|\n",
            "+-----+----+------------+-------------+------------+-------------+--------------+-----------------+----+---------------+---------------+-------+\n",
            "| 9046|67.0|           0|            1|         Yes|      Private|         Urban|           228.69|36.6|formerly smoked|              1|    1.0|\n",
            "|51676|61.0|           0|            0|         Yes|Self-employed|         Rural|           202.21| N/A|   never smoked|              1|    0.0|\n",
            "|31112|80.0|           0|            1|         Yes|      Private|         Rural|           105.92|32.5|   never smoked|              1|    1.0|\n",
            "|60182|49.0|           0|            0|         Yes|      Private|         Urban|           171.23|34.4|         smokes|              1|    0.0|\n",
            "| 1665|79.0|           1|            0|         Yes|Self-employed|         Rural|           174.12|  24|   never smoked|              1|    0.0|\n",
            "|56669|81.0|           0|            0|         Yes|      Private|         Urban|           186.21|  29|formerly smoked|              1|    1.0|\n",
            "|53882|74.0|           1|            1|         Yes|      Private|         Rural|            70.09|27.4|   never smoked|              1|    1.0|\n",
            "|10434|69.0|           0|            0|          No|      Private|         Urban|            94.39|22.8|   never smoked|              1|    0.0|\n",
            "|27419|59.0|           0|            0|         Yes|      Private|         Rural|            76.15| N/A|        Unknown|              1|    0.0|\n",
            "|60491|78.0|           0|            0|         Yes|      Private|         Urban|            58.57|24.2|        Unknown|              1|    0.0|\n",
            "|12109|81.0|           1|            0|         Yes|      Private|         Rural|            80.43|29.7|   never smoked|              1|    0.0|\n",
            "|12095|61.0|           0|            1|         Yes|     Govt_job|         Rural|           120.46|36.8|         smokes|              1|    0.0|\n",
            "|12175|54.0|           0|            0|         Yes|      Private|         Urban|           104.51|27.3|         smokes|              1|    0.0|\n",
            "| 8213|78.0|           0|            1|         Yes|      Private|         Urban|           219.84| N/A|        Unknown|              1|    1.0|\n",
            "| 5317|79.0|           0|            1|         Yes|      Private|         Urban|           214.09|28.2|   never smoked|              1|    0.0|\n",
            "|58202|50.0|           1|            0|         Yes|Self-employed|         Rural|           167.41|30.9|   never smoked|              1|    0.0|\n",
            "|56112|64.0|           0|            1|         Yes|      Private|         Urban|           191.61|37.5|         smokes|              1|    1.0|\n",
            "|34120|75.0|           1|            0|         Yes|      Private|         Urban|           221.29|25.8|         smokes|              1|    1.0|\n",
            "|27458|60.0|           0|            0|          No|      Private|         Urban|            89.22|37.8|   never smoked|              1|    0.0|\n",
            "|25226|57.0|           0|            1|          No|     Govt_job|         Urban|           217.08| N/A|        Unknown|              1|    1.0|\n",
            "+-----+----+------------+-------------+------------+-------------+--------------+-----------------+----+---------------+---------------+-------+\n",
            "only showing top 20 rows\n",
            "\n"
          ]
        }
      ],
      "source": [
        "indexed_df  = indexed_df.drop('gender')\n",
        "indexed_df.show()"
      ]
    },
    {
      "cell_type": "code",
      "execution_count": null,
      "metadata": {
        "id": "ga01vdnfXqac",
        "colab": {
          "base_uri": "https://localhost:8080/"
        },
        "outputId": "e7d4c8a5-9a4d-43d8-b81e-06b9ffddef87"
      },
      "outputs": [
        {
          "output_type": "execute_result",
          "data": {
            "text/plain": [
              "DataFrame[id: int, age: double, hypertension: int, heart_disease: int, ever_married: string, work_type: string, Residence_type: string, avg_glucose_level: double, bmi: string, smoking_status: string, stroke_occurred: int, gender1: double]"
            ]
          },
          "metadata": {},
          "execution_count": 15
        }
      ],
      "source": [
        "indexed_df"
      ]
    },
    {
      "cell_type": "code",
      "execution_count": null,
      "metadata": {
        "id": "r-_84O46XfJW",
        "colab": {
          "base_uri": "https://localhost:8080/"
        },
        "outputId": "543b3fdc-9598-4352-bfd3-c6c37ed8ba24"
      },
      "outputs": [
        {
          "output_type": "stream",
          "name": "stdout",
          "text": [
            "+-----+----+------------+-------------+-------------+--------------+-----------------+----+---------------+---------------+-------+-------------+\n",
            "|   id| age|hypertension|heart_disease|    work_type|Residence_type|avg_glucose_level| bmi| smoking_status|stroke_occurred|gender1|ever_married1|\n",
            "+-----+----+------------+-------------+-------------+--------------+-----------------+----+---------------+---------------+-------+-------------+\n",
            "| 9046|67.0|           0|            1|      Private|         Urban|           228.69|36.6|formerly smoked|              1|    1.0|          0.0|\n",
            "|51676|61.0|           0|            0|Self-employed|         Rural|           202.21| N/A|   never smoked|              1|    0.0|          0.0|\n",
            "|31112|80.0|           0|            1|      Private|         Rural|           105.92|32.5|   never smoked|              1|    1.0|          0.0|\n",
            "|60182|49.0|           0|            0|      Private|         Urban|           171.23|34.4|         smokes|              1|    0.0|          0.0|\n",
            "| 1665|79.0|           1|            0|Self-employed|         Rural|           174.12|  24|   never smoked|              1|    0.0|          0.0|\n",
            "|56669|81.0|           0|            0|      Private|         Urban|           186.21|  29|formerly smoked|              1|    1.0|          0.0|\n",
            "|53882|74.0|           1|            1|      Private|         Rural|            70.09|27.4|   never smoked|              1|    1.0|          0.0|\n",
            "|10434|69.0|           0|            0|      Private|         Urban|            94.39|22.8|   never smoked|              1|    0.0|          1.0|\n",
            "|27419|59.0|           0|            0|      Private|         Rural|            76.15| N/A|        Unknown|              1|    0.0|          0.0|\n",
            "|60491|78.0|           0|            0|      Private|         Urban|            58.57|24.2|        Unknown|              1|    0.0|          0.0|\n",
            "|12109|81.0|           1|            0|      Private|         Rural|            80.43|29.7|   never smoked|              1|    0.0|          0.0|\n",
            "|12095|61.0|           0|            1|     Govt_job|         Rural|           120.46|36.8|         smokes|              1|    0.0|          0.0|\n",
            "|12175|54.0|           0|            0|      Private|         Urban|           104.51|27.3|         smokes|              1|    0.0|          0.0|\n",
            "| 8213|78.0|           0|            1|      Private|         Urban|           219.84| N/A|        Unknown|              1|    1.0|          0.0|\n",
            "| 5317|79.0|           0|            1|      Private|         Urban|           214.09|28.2|   never smoked|              1|    0.0|          0.0|\n",
            "|58202|50.0|           1|            0|Self-employed|         Rural|           167.41|30.9|   never smoked|              1|    0.0|          0.0|\n",
            "|56112|64.0|           0|            1|      Private|         Urban|           191.61|37.5|         smokes|              1|    1.0|          0.0|\n",
            "|34120|75.0|           1|            0|      Private|         Urban|           221.29|25.8|         smokes|              1|    1.0|          0.0|\n",
            "|27458|60.0|           0|            0|      Private|         Urban|            89.22|37.8|   never smoked|              1|    0.0|          1.0|\n",
            "|25226|57.0|           0|            1|     Govt_job|         Urban|           217.08| N/A|        Unknown|              1|    1.0|          1.0|\n",
            "+-----+----+------------+-------------+-------------+--------------+-----------------+----+---------------+---------------+-------+-------------+\n",
            "only showing top 20 rows\n",
            "\n"
          ]
        }
      ],
      "source": [
        "# conversion\n",
        "indexer = StringIndexer(inputCol='ever_married', outputCol='ever_married1').fit(indexed_df)\n",
        "indexed_df = indexer.transform(indexed_df)\n",
        "indexed_df  = indexed_df.drop('ever_married')\n",
        "indexed_df.show()"
      ]
    },
    {
      "cell_type": "code",
      "execution_count": null,
      "metadata": {
        "id": "q7UpaeUjcboJ",
        "colab": {
          "base_uri": "https://localhost:8080/"
        },
        "outputId": "5c26ee4a-16a2-409e-8bd3-41e355128f2e"
      },
      "outputs": [
        {
          "output_type": "stream",
          "name": "stdout",
          "text": [
            "+-----+----+------------+-------------+--------------+-----------------+----+---------------+---------------+-------+-------------+----------+\n",
            "|   id| age|hypertension|heart_disease|Residence_type|avg_glucose_level| bmi| smoking_status|stroke_occurred|gender1|ever_married1|work_type1|\n",
            "+-----+----+------------+-------------+--------------+-----------------+----+---------------+---------------+-------+-------------+----------+\n",
            "| 9046|67.0|           0|            1|         Urban|           228.69|36.6|formerly smoked|              1|    1.0|          0.0|       0.0|\n",
            "|51676|61.0|           0|            0|         Rural|           202.21| N/A|   never smoked|              1|    0.0|          0.0|       1.0|\n",
            "|31112|80.0|           0|            1|         Rural|           105.92|32.5|   never smoked|              1|    1.0|          0.0|       0.0|\n",
            "|60182|49.0|           0|            0|         Urban|           171.23|34.4|         smokes|              1|    0.0|          0.0|       0.0|\n",
            "| 1665|79.0|           1|            0|         Rural|           174.12|  24|   never smoked|              1|    0.0|          0.0|       1.0|\n",
            "|56669|81.0|           0|            0|         Urban|           186.21|  29|formerly smoked|              1|    1.0|          0.0|       0.0|\n",
            "|53882|74.0|           1|            1|         Rural|            70.09|27.4|   never smoked|              1|    1.0|          0.0|       0.0|\n",
            "|10434|69.0|           0|            0|         Urban|            94.39|22.8|   never smoked|              1|    0.0|          1.0|       0.0|\n",
            "|27419|59.0|           0|            0|         Rural|            76.15| N/A|        Unknown|              1|    0.0|          0.0|       0.0|\n",
            "|60491|78.0|           0|            0|         Urban|            58.57|24.2|        Unknown|              1|    0.0|          0.0|       0.0|\n",
            "|12109|81.0|           1|            0|         Rural|            80.43|29.7|   never smoked|              1|    0.0|          0.0|       0.0|\n",
            "|12095|61.0|           0|            1|         Rural|           120.46|36.8|         smokes|              1|    0.0|          0.0|       3.0|\n",
            "|12175|54.0|           0|            0|         Urban|           104.51|27.3|         smokes|              1|    0.0|          0.0|       0.0|\n",
            "| 8213|78.0|           0|            1|         Urban|           219.84| N/A|        Unknown|              1|    1.0|          0.0|       0.0|\n",
            "| 5317|79.0|           0|            1|         Urban|           214.09|28.2|   never smoked|              1|    0.0|          0.0|       0.0|\n",
            "|58202|50.0|           1|            0|         Rural|           167.41|30.9|   never smoked|              1|    0.0|          0.0|       1.0|\n",
            "|56112|64.0|           0|            1|         Urban|           191.61|37.5|         smokes|              1|    1.0|          0.0|       0.0|\n",
            "|34120|75.0|           1|            0|         Urban|           221.29|25.8|         smokes|              1|    1.0|          0.0|       0.0|\n",
            "|27458|60.0|           0|            0|         Urban|            89.22|37.8|   never smoked|              1|    0.0|          1.0|       0.0|\n",
            "|25226|57.0|           0|            1|         Urban|           217.08| N/A|        Unknown|              1|    1.0|          1.0|       3.0|\n",
            "+-----+----+------------+-------------+--------------+-----------------+----+---------------+---------------+-------+-------------+----------+\n",
            "only showing top 20 rows\n",
            "\n"
          ]
        }
      ],
      "source": [
        "# conversion\n",
        "indexer = StringIndexer(inputCol='work_type', outputCol='work_type1').fit(indexed_df)\n",
        "indexed_df = indexer.transform(indexed_df)\n",
        "indexed_df  = indexed_df.drop('work_type')\n",
        "indexed_df.show()"
      ]
    },
    {
      "cell_type": "code",
      "execution_count": null,
      "metadata": {
        "id": "8tISu_IYduqB",
        "colab": {
          "base_uri": "https://localhost:8080/"
        },
        "outputId": "2b4dbf78-5f38-43af-937f-8c3d02e42690"
      },
      "outputs": [
        {
          "output_type": "stream",
          "name": "stdout",
          "text": [
            "+-----+----+------------+-------------+-----------------+----+---------------+---------------+-------+-------------+----------+---------------+\n",
            "|   id| age|hypertension|heart_disease|avg_glucose_level| bmi| smoking_status|stroke_occurred|gender1|ever_married1|work_type1|Residence_type1|\n",
            "+-----+----+------------+-------------+-----------------+----+---------------+---------------+-------+-------------+----------+---------------+\n",
            "| 9046|67.0|           0|            1|           228.69|36.6|formerly smoked|              1|    1.0|          0.0|       0.0|            0.0|\n",
            "|51676|61.0|           0|            0|           202.21| N/A|   never smoked|              1|    0.0|          0.0|       1.0|            1.0|\n",
            "|31112|80.0|           0|            1|           105.92|32.5|   never smoked|              1|    1.0|          0.0|       0.0|            1.0|\n",
            "|60182|49.0|           0|            0|           171.23|34.4|         smokes|              1|    0.0|          0.0|       0.0|            0.0|\n",
            "| 1665|79.0|           1|            0|           174.12|  24|   never smoked|              1|    0.0|          0.0|       1.0|            1.0|\n",
            "|56669|81.0|           0|            0|           186.21|  29|formerly smoked|              1|    1.0|          0.0|       0.0|            0.0|\n",
            "|53882|74.0|           1|            1|            70.09|27.4|   never smoked|              1|    1.0|          0.0|       0.0|            1.0|\n",
            "|10434|69.0|           0|            0|            94.39|22.8|   never smoked|              1|    0.0|          1.0|       0.0|            0.0|\n",
            "|27419|59.0|           0|            0|            76.15| N/A|        Unknown|              1|    0.0|          0.0|       0.0|            1.0|\n",
            "|60491|78.0|           0|            0|            58.57|24.2|        Unknown|              1|    0.0|          0.0|       0.0|            0.0|\n",
            "|12109|81.0|           1|            0|            80.43|29.7|   never smoked|              1|    0.0|          0.0|       0.0|            1.0|\n",
            "|12095|61.0|           0|            1|           120.46|36.8|         smokes|              1|    0.0|          0.0|       3.0|            1.0|\n",
            "|12175|54.0|           0|            0|           104.51|27.3|         smokes|              1|    0.0|          0.0|       0.0|            0.0|\n",
            "| 8213|78.0|           0|            1|           219.84| N/A|        Unknown|              1|    1.0|          0.0|       0.0|            0.0|\n",
            "| 5317|79.0|           0|            1|           214.09|28.2|   never smoked|              1|    0.0|          0.0|       0.0|            0.0|\n",
            "|58202|50.0|           1|            0|           167.41|30.9|   never smoked|              1|    0.0|          0.0|       1.0|            1.0|\n",
            "|56112|64.0|           0|            1|           191.61|37.5|         smokes|              1|    1.0|          0.0|       0.0|            0.0|\n",
            "|34120|75.0|           1|            0|           221.29|25.8|         smokes|              1|    1.0|          0.0|       0.0|            0.0|\n",
            "|27458|60.0|           0|            0|            89.22|37.8|   never smoked|              1|    0.0|          1.0|       0.0|            0.0|\n",
            "|25226|57.0|           0|            1|           217.08| N/A|        Unknown|              1|    1.0|          1.0|       3.0|            0.0|\n",
            "+-----+----+------------+-------------+-----------------+----+---------------+---------------+-------+-------------+----------+---------------+\n",
            "only showing top 20 rows\n",
            "\n"
          ]
        }
      ],
      "source": [
        "# conversion\n",
        "indexer = StringIndexer(inputCol='Residence_type', outputCol='Residence_type1').fit(indexed_df)\n",
        "indexed_df = indexer.transform(indexed_df)\n",
        "indexed_df  = indexed_df.drop('Residence_type')\n",
        "indexed_df.show()"
      ]
    },
    {
      "cell_type": "code",
      "execution_count": null,
      "metadata": {
        "id": "W_2yBfZTd5RA",
        "colab": {
          "base_uri": "https://localhost:8080/"
        },
        "outputId": "5d3c9a56-33e5-42c6-fd47-1bbd126e9305"
      },
      "outputs": [
        {
          "output_type": "stream",
          "name": "stdout",
          "text": [
            "+-----+----+------------+-------------+-----------------+----+---------------+-------+-------------+----------+---------------+---------------+\n",
            "|   id| age|hypertension|heart_disease|avg_glucose_level| bmi|stroke_occurred|gender1|ever_married1|work_type1|Residence_type1|smoking_status1|\n",
            "+-----+----+------------+-------------+-----------------+----+---------------+-------+-------------+----------+---------------+---------------+\n",
            "| 9046|67.0|           0|            1|           228.69|36.6|              1|    1.0|          0.0|       0.0|            0.0|            2.0|\n",
            "|51676|61.0|           0|            0|           202.21| N/A|              1|    0.0|          0.0|       1.0|            1.0|            0.0|\n",
            "|31112|80.0|           0|            1|           105.92|32.5|              1|    1.0|          0.0|       0.0|            1.0|            0.0|\n",
            "|60182|49.0|           0|            0|           171.23|34.4|              1|    0.0|          0.0|       0.0|            0.0|            3.0|\n",
            "| 1665|79.0|           1|            0|           174.12|  24|              1|    0.0|          0.0|       1.0|            1.0|            0.0|\n",
            "|56669|81.0|           0|            0|           186.21|  29|              1|    1.0|          0.0|       0.0|            0.0|            2.0|\n",
            "|53882|74.0|           1|            1|            70.09|27.4|              1|    1.0|          0.0|       0.0|            1.0|            0.0|\n",
            "|10434|69.0|           0|            0|            94.39|22.8|              1|    0.0|          1.0|       0.0|            0.0|            0.0|\n",
            "|27419|59.0|           0|            0|            76.15| N/A|              1|    0.0|          0.0|       0.0|            1.0|            1.0|\n",
            "|60491|78.0|           0|            0|            58.57|24.2|              1|    0.0|          0.0|       0.0|            0.0|            1.0|\n",
            "|12109|81.0|           1|            0|            80.43|29.7|              1|    0.0|          0.0|       0.0|            1.0|            0.0|\n",
            "|12095|61.0|           0|            1|           120.46|36.8|              1|    0.0|          0.0|       3.0|            1.0|            3.0|\n",
            "|12175|54.0|           0|            0|           104.51|27.3|              1|    0.0|          0.0|       0.0|            0.0|            3.0|\n",
            "| 8213|78.0|           0|            1|           219.84| N/A|              1|    1.0|          0.0|       0.0|            0.0|            1.0|\n",
            "| 5317|79.0|           0|            1|           214.09|28.2|              1|    0.0|          0.0|       0.0|            0.0|            0.0|\n",
            "|58202|50.0|           1|            0|           167.41|30.9|              1|    0.0|          0.0|       1.0|            1.0|            0.0|\n",
            "|56112|64.0|           0|            1|           191.61|37.5|              1|    1.0|          0.0|       0.0|            0.0|            3.0|\n",
            "|34120|75.0|           1|            0|           221.29|25.8|              1|    1.0|          0.0|       0.0|            0.0|            3.0|\n",
            "|27458|60.0|           0|            0|            89.22|37.8|              1|    0.0|          1.0|       0.0|            0.0|            0.0|\n",
            "|25226|57.0|           0|            1|           217.08| N/A|              1|    1.0|          1.0|       3.0|            0.0|            1.0|\n",
            "+-----+----+------------+-------------+-----------------+----+---------------+-------+-------------+----------+---------------+---------------+\n",
            "only showing top 20 rows\n",
            "\n"
          ]
        }
      ],
      "source": [
        "# conversion\n",
        "indexer = StringIndexer(inputCol='smoking_status', outputCol='smoking_status1').fit(indexed_df)\n",
        "indexed_df = indexer.transform(indexed_df)\n",
        "indexed_df  = indexed_df.drop('smoking_status')\n",
        "indexed_df.show()"
      ]
    },
    {
      "cell_type": "code",
      "execution_count": null,
      "metadata": {
        "id": "5YOpNa9eeDcK"
      },
      "outputs": [],
      "source": [
        "indexed_df =indexed_df.na.drop()"
      ]
    },
    {
      "cell_type": "code",
      "execution_count": null,
      "metadata": {
        "id": "Apid041cedTU",
        "colab": {
          "base_uri": "https://localhost:8080/"
        },
        "outputId": "c3805a49-7c59-4774-c619-d065922eaef8"
      },
      "outputs": [
        {
          "output_type": "stream",
          "name": "stdout",
          "text": [
            "+-----+----+------------+-------------+-----------------+----+---------------+-------+-------------+----------+---------------+---------------+\n",
            "|   id| age|hypertension|heart_disease|avg_glucose_level| bmi|stroke_occurred|gender1|ever_married1|work_type1|Residence_type1|smoking_status1|\n",
            "+-----+----+------------+-------------+-----------------+----+---------------+-------+-------------+----------+---------------+---------------+\n",
            "| 9046|67.0|           0|            1|           228.69|36.6|              1|    1.0|          0.0|       0.0|            0.0|            2.0|\n",
            "|51676|61.0|           0|            0|           202.21| N/A|              1|    0.0|          0.0|       1.0|            1.0|            0.0|\n",
            "|31112|80.0|           0|            1|           105.92|32.5|              1|    1.0|          0.0|       0.0|            1.0|            0.0|\n",
            "|60182|49.0|           0|            0|           171.23|34.4|              1|    0.0|          0.0|       0.0|            0.0|            3.0|\n",
            "| 1665|79.0|           1|            0|           174.12|  24|              1|    0.0|          0.0|       1.0|            1.0|            0.0|\n",
            "|56669|81.0|           0|            0|           186.21|  29|              1|    1.0|          0.0|       0.0|            0.0|            2.0|\n",
            "|53882|74.0|           1|            1|            70.09|27.4|              1|    1.0|          0.0|       0.0|            1.0|            0.0|\n",
            "|10434|69.0|           0|            0|            94.39|22.8|              1|    0.0|          1.0|       0.0|            0.0|            0.0|\n",
            "|27419|59.0|           0|            0|            76.15| N/A|              1|    0.0|          0.0|       0.0|            1.0|            1.0|\n",
            "|60491|78.0|           0|            0|            58.57|24.2|              1|    0.0|          0.0|       0.0|            0.0|            1.0|\n",
            "|12109|81.0|           1|            0|            80.43|29.7|              1|    0.0|          0.0|       0.0|            1.0|            0.0|\n",
            "|12095|61.0|           0|            1|           120.46|36.8|              1|    0.0|          0.0|       3.0|            1.0|            3.0|\n",
            "|12175|54.0|           0|            0|           104.51|27.3|              1|    0.0|          0.0|       0.0|            0.0|            3.0|\n",
            "| 8213|78.0|           0|            1|           219.84| N/A|              1|    1.0|          0.0|       0.0|            0.0|            1.0|\n",
            "| 5317|79.0|           0|            1|           214.09|28.2|              1|    0.0|          0.0|       0.0|            0.0|            0.0|\n",
            "|58202|50.0|           1|            0|           167.41|30.9|              1|    0.0|          0.0|       1.0|            1.0|            0.0|\n",
            "|56112|64.0|           0|            1|           191.61|37.5|              1|    1.0|          0.0|       0.0|            0.0|            3.0|\n",
            "|34120|75.0|           1|            0|           221.29|25.8|              1|    1.0|          0.0|       0.0|            0.0|            3.0|\n",
            "|27458|60.0|           0|            0|            89.22|37.8|              1|    0.0|          1.0|       0.0|            0.0|            0.0|\n",
            "|25226|57.0|           0|            1|           217.08| N/A|              1|    1.0|          1.0|       3.0|            0.0|            1.0|\n",
            "+-----+----+------------+-------------+-----------------+----+---------------+-------+-------------+----------+---------------+---------------+\n",
            "only showing top 20 rows\n",
            "\n"
          ]
        }
      ],
      "source": [
        "indexed_df.show()"
      ]
    },
    {
      "cell_type": "code",
      "execution_count": null,
      "metadata": {
        "id": "Sq8hp7GmefRo"
      },
      "outputs": [],
      "source": [
        "# Import necessary libraries\n",
        "from pyspark.sql.functions import col\n",
        "# Remove rows with null or NaN values in a specific column\n",
        "indexed_df = indexed_df.filter(col(\"bmi\").isNotNull())"
      ]
    },
    {
      "cell_type": "code",
      "execution_count": null,
      "metadata": {
        "id": "UcYtON0YfH6V",
        "colab": {
          "base_uri": "https://localhost:8080/"
        },
        "outputId": "0f25e450-a0cd-486f-bc5e-53acd9e339fb"
      },
      "outputs": [
        {
          "output_type": "stream",
          "name": "stdout",
          "text": [
            "+-----+----+------------+-------------+-----------------+----+---------------+-------+-------------+----------+---------------+---------------+\n",
            "|   id| age|hypertension|heart_disease|avg_glucose_level| bmi|stroke_occurred|gender1|ever_married1|work_type1|Residence_type1|smoking_status1|\n",
            "+-----+----+------------+-------------+-----------------+----+---------------+-------+-------------+----------+---------------+---------------+\n",
            "| 9046|67.0|           0|            1|           228.69|36.6|              1|    1.0|          0.0|       0.0|            0.0|            2.0|\n",
            "|51676|61.0|           0|            0|           202.21| N/A|              1|    0.0|          0.0|       1.0|            1.0|            0.0|\n",
            "|31112|80.0|           0|            1|           105.92|32.5|              1|    1.0|          0.0|       0.0|            1.0|            0.0|\n",
            "|60182|49.0|           0|            0|           171.23|34.4|              1|    0.0|          0.0|       0.0|            0.0|            3.0|\n",
            "| 1665|79.0|           1|            0|           174.12|  24|              1|    0.0|          0.0|       1.0|            1.0|            0.0|\n",
            "|56669|81.0|           0|            0|           186.21|  29|              1|    1.0|          0.0|       0.0|            0.0|            2.0|\n",
            "|53882|74.0|           1|            1|            70.09|27.4|              1|    1.0|          0.0|       0.0|            1.0|            0.0|\n",
            "|10434|69.0|           0|            0|            94.39|22.8|              1|    0.0|          1.0|       0.0|            0.0|            0.0|\n",
            "|27419|59.0|           0|            0|            76.15| N/A|              1|    0.0|          0.0|       0.0|            1.0|            1.0|\n",
            "|60491|78.0|           0|            0|            58.57|24.2|              1|    0.0|          0.0|       0.0|            0.0|            1.0|\n",
            "|12109|81.0|           1|            0|            80.43|29.7|              1|    0.0|          0.0|       0.0|            1.0|            0.0|\n",
            "|12095|61.0|           0|            1|           120.46|36.8|              1|    0.0|          0.0|       3.0|            1.0|            3.0|\n",
            "|12175|54.0|           0|            0|           104.51|27.3|              1|    0.0|          0.0|       0.0|            0.0|            3.0|\n",
            "| 8213|78.0|           0|            1|           219.84| N/A|              1|    1.0|          0.0|       0.0|            0.0|            1.0|\n",
            "| 5317|79.0|           0|            1|           214.09|28.2|              1|    0.0|          0.0|       0.0|            0.0|            0.0|\n",
            "|58202|50.0|           1|            0|           167.41|30.9|              1|    0.0|          0.0|       1.0|            1.0|            0.0|\n",
            "|56112|64.0|           0|            1|           191.61|37.5|              1|    1.0|          0.0|       0.0|            0.0|            3.0|\n",
            "|34120|75.0|           1|            0|           221.29|25.8|              1|    1.0|          0.0|       0.0|            0.0|            3.0|\n",
            "|27458|60.0|           0|            0|            89.22|37.8|              1|    0.0|          1.0|       0.0|            0.0|            0.0|\n",
            "|25226|57.0|           0|            1|           217.08| N/A|              1|    1.0|          1.0|       3.0|            0.0|            1.0|\n",
            "+-----+----+------------+-------------+-----------------+----+---------------+-------+-------------+----------+---------------+---------------+\n",
            "only showing top 20 rows\n",
            "\n"
          ]
        }
      ],
      "source": [
        "indexed_df.show()"
      ]
    },
    {
      "cell_type": "code",
      "execution_count": null,
      "metadata": {
        "id": "0JlfsvHEf1tv"
      },
      "outputs": [],
      "source": [
        "df=indexed_df"
      ]
    },
    {
      "cell_type": "code",
      "execution_count": null,
      "metadata": {
        "id": "rld1Os-Qf6uT",
        "colab": {
          "base_uri": "https://localhost:8080/"
        },
        "outputId": "715635de-a937-4cdb-ad85-4a0fc1cd7220"
      },
      "outputs": [
        {
          "output_type": "stream",
          "name": "stdout",
          "text": [
            "+-----+----+------------+-------------+-----------------+----+---------------+-------+-------------+----------+---------------+---------------+\n",
            "|   id| age|hypertension|heart_disease|avg_glucose_level| bmi|stroke_occurred|gender1|ever_married1|work_type1|Residence_type1|smoking_status1|\n",
            "+-----+----+------------+-------------+-----------------+----+---------------+-------+-------------+----------+---------------+---------------+\n",
            "| 9046|67.0|           0|            1|           228.69|36.6|              1|    1.0|          0.0|       0.0|            0.0|            2.0|\n",
            "|51676|61.0|           0|            0|           202.21| N/A|              1|    0.0|          0.0|       1.0|            1.0|            0.0|\n",
            "|31112|80.0|           0|            1|           105.92|32.5|              1|    1.0|          0.0|       0.0|            1.0|            0.0|\n",
            "|60182|49.0|           0|            0|           171.23|34.4|              1|    0.0|          0.0|       0.0|            0.0|            3.0|\n",
            "| 1665|79.0|           1|            0|           174.12|  24|              1|    0.0|          0.0|       1.0|            1.0|            0.0|\n",
            "|56669|81.0|           0|            0|           186.21|  29|              1|    1.0|          0.0|       0.0|            0.0|            2.0|\n",
            "|53882|74.0|           1|            1|            70.09|27.4|              1|    1.0|          0.0|       0.0|            1.0|            0.0|\n",
            "|10434|69.0|           0|            0|            94.39|22.8|              1|    0.0|          1.0|       0.0|            0.0|            0.0|\n",
            "|27419|59.0|           0|            0|            76.15| N/A|              1|    0.0|          0.0|       0.0|            1.0|            1.0|\n",
            "|60491|78.0|           0|            0|            58.57|24.2|              1|    0.0|          0.0|       0.0|            0.0|            1.0|\n",
            "|12109|81.0|           1|            0|            80.43|29.7|              1|    0.0|          0.0|       0.0|            1.0|            0.0|\n",
            "|12095|61.0|           0|            1|           120.46|36.8|              1|    0.0|          0.0|       3.0|            1.0|            3.0|\n",
            "|12175|54.0|           0|            0|           104.51|27.3|              1|    0.0|          0.0|       0.0|            0.0|            3.0|\n",
            "| 8213|78.0|           0|            1|           219.84| N/A|              1|    1.0|          0.0|       0.0|            0.0|            1.0|\n",
            "| 5317|79.0|           0|            1|           214.09|28.2|              1|    0.0|          0.0|       0.0|            0.0|            0.0|\n",
            "|58202|50.0|           1|            0|           167.41|30.9|              1|    0.0|          0.0|       1.0|            1.0|            0.0|\n",
            "|56112|64.0|           0|            1|           191.61|37.5|              1|    1.0|          0.0|       0.0|            0.0|            3.0|\n",
            "|34120|75.0|           1|            0|           221.29|25.8|              1|    1.0|          0.0|       0.0|            0.0|            3.0|\n",
            "|27458|60.0|           0|            0|            89.22|37.8|              1|    0.0|          1.0|       0.0|            0.0|            0.0|\n",
            "|25226|57.0|           0|            1|           217.08| N/A|              1|    1.0|          1.0|       3.0|            0.0|            1.0|\n",
            "+-----+----+------------+-------------+-----------------+----+---------------+-------+-------------+----------+---------------+---------------+\n",
            "only showing top 20 rows\n",
            "\n"
          ]
        }
      ],
      "source": [
        "df.show()"
      ]
    },
    {
      "cell_type": "code",
      "execution_count": null,
      "metadata": {
        "id": "w-ZCeWxFY8Lh"
      },
      "outputs": [],
      "source": [
        "#To filter null values(N/A) when it is in string type\n",
        "df = df.filter(~col('bmi').contains('N/A'))"
      ]
    },
    {
      "cell_type": "code",
      "execution_count": null,
      "metadata": {
        "colab": {
          "base_uri": "https://localhost:8080/"
        },
        "id": "UIzGcIJCgp9r",
        "outputId": "8bd519ec-fc86-446f-8224-63414e51b467"
      },
      "outputs": [
        {
          "output_type": "execute_result",
          "data": {
            "text/plain": [
              "DataFrame[id: int, age: double, hypertension: int, heart_disease: int, avg_glucose_level: double, bmi: string, stroke_occurred: int, gender1: double, ever_married1: double, work_type1: double, Residence_type1: double, smoking_status1: double]"
            ]
          },
          "metadata": {},
          "execution_count": 27
        }
      ],
      "source": [
        "df"
      ]
    },
    {
      "cell_type": "code",
      "execution_count": null,
      "metadata": {
        "colab": {
          "base_uri": "https://localhost:8080/"
        },
        "id": "81jrjhplYa5T",
        "outputId": "5b01203e-2ac9-4353-c0d4-1ca57bcfa148"
      },
      "outputs": [
        {
          "output_type": "stream",
          "name": "stdout",
          "text": [
            "+-----+----+------------+-------------+-----------------+----+---------------+-------+-------------+----------+---------------+---------------+\n",
            "|   id| age|hypertension|heart_disease|avg_glucose_level| bmi|stroke_occurred|gender1|ever_married1|work_type1|Residence_type1|smoking_status1|\n",
            "+-----+----+------------+-------------+-----------------+----+---------------+-------+-------------+----------+---------------+---------------+\n",
            "| 9046|67.0|           0|            1|           228.69|36.6|              1|    1.0|          0.0|       0.0|            0.0|            2.0|\n",
            "|31112|80.0|           0|            1|           105.92|32.5|              1|    1.0|          0.0|       0.0|            1.0|            0.0|\n",
            "|60182|49.0|           0|            0|           171.23|34.4|              1|    0.0|          0.0|       0.0|            0.0|            3.0|\n",
            "| 1665|79.0|           1|            0|           174.12|  24|              1|    0.0|          0.0|       1.0|            1.0|            0.0|\n",
            "|56669|81.0|           0|            0|           186.21|  29|              1|    1.0|          0.0|       0.0|            0.0|            2.0|\n",
            "|53882|74.0|           1|            1|            70.09|27.4|              1|    1.0|          0.0|       0.0|            1.0|            0.0|\n",
            "|10434|69.0|           0|            0|            94.39|22.8|              1|    0.0|          1.0|       0.0|            0.0|            0.0|\n",
            "|60491|78.0|           0|            0|            58.57|24.2|              1|    0.0|          0.0|       0.0|            0.0|            1.0|\n",
            "|12109|81.0|           1|            0|            80.43|29.7|              1|    0.0|          0.0|       0.0|            1.0|            0.0|\n",
            "|12095|61.0|           0|            1|           120.46|36.8|              1|    0.0|          0.0|       3.0|            1.0|            3.0|\n",
            "|12175|54.0|           0|            0|           104.51|27.3|              1|    0.0|          0.0|       0.0|            0.0|            3.0|\n",
            "| 5317|79.0|           0|            1|           214.09|28.2|              1|    0.0|          0.0|       0.0|            0.0|            0.0|\n",
            "|58202|50.0|           1|            0|           167.41|30.9|              1|    0.0|          0.0|       1.0|            1.0|            0.0|\n",
            "|56112|64.0|           0|            1|           191.61|37.5|              1|    1.0|          0.0|       0.0|            0.0|            3.0|\n",
            "|34120|75.0|           1|            0|           221.29|25.8|              1|    1.0|          0.0|       0.0|            0.0|            3.0|\n",
            "|27458|60.0|           0|            0|            89.22|37.8|              1|    0.0|          1.0|       0.0|            0.0|            0.0|\n",
            "|70630|71.0|           0|            0|           193.94|22.4|              1|    0.0|          0.0|       3.0|            1.0|            3.0|\n",
            "|13861|52.0|           1|            0|           233.29|48.9|              1|    0.0|          0.0|       1.0|            0.0|            0.0|\n",
            "|68794|79.0|           0|            0|            228.7|26.6|              1|    0.0|          0.0|       1.0|            0.0|            0.0|\n",
            "|64778|82.0|           0|            1|            208.3|32.5|              1|    1.0|          0.0|       0.0|            1.0|            1.0|\n",
            "+-----+----+------------+-------------+-----------------+----+---------------+-------+-------------+----------+---------------+---------------+\n",
            "only showing top 20 rows\n",
            "\n"
          ]
        }
      ],
      "source": [
        "df.show()"
      ]
    },
    {
      "cell_type": "code",
      "execution_count": null,
      "metadata": {
        "id": "3CsW16L_ZrKc",
        "colab": {
          "base_uri": "https://localhost:8080/"
        },
        "outputId": "e830c476-e2b2-4442-ed91-abd78f0499c4"
      },
      "outputs": [
        {
          "output_type": "execute_result",
          "data": {
            "text/plain": [
              "DataFrame[id: int, age: double, hypertension: int, heart_disease: int, avg_glucose_level: double, bmi: string, stroke_occurred: int, gender1: double, ever_married1: double, work_type1: double, Residence_type1: double, smoking_status1: double]"
            ]
          },
          "metadata": {},
          "execution_count": 29
        }
      ],
      "source": [
        "df"
      ]
    },
    {
      "cell_type": "markdown",
      "source": [
        "#*DATA TRANSFORMATION*#\n"
      ],
      "metadata": {
        "id": "twUieHIg0aF_"
      }
    },
    {
      "cell_type": "code",
      "execution_count": null,
      "metadata": {
        "id": "yVHUNtK8awns"
      },
      "outputs": [],
      "source": [
        "from pyspark.sql.functions import col\n",
        "df = df.withColumn('bmi', col('bmi').cast('integer'))"
      ]
    },
    {
      "cell_type": "code",
      "execution_count": null,
      "metadata": {
        "id": "ZEeRj6M2a700",
        "colab": {
          "base_uri": "https://localhost:8080/"
        },
        "outputId": "6905b860-dd1b-4a9c-f321-0955ef804a09"
      },
      "outputs": [
        {
          "output_type": "execute_result",
          "data": {
            "text/plain": [
              "DataFrame[id: int, age: double, hypertension: int, heart_disease: int, avg_glucose_level: double, bmi: int, stroke_occurred: int, gender1: double, ever_married1: double, work_type1: double, Residence_type1: double, smoking_status1: double]"
            ]
          },
          "metadata": {},
          "execution_count": 31
        }
      ],
      "source": [
        "df"
      ]
    },
    {
      "cell_type": "code",
      "execution_count": null,
      "metadata": {
        "id": "ObopMCdwbXO9",
        "colab": {
          "base_uri": "https://localhost:8080/"
        },
        "outputId": "bcbde5f0-ef65-450a-f6e5-03013cdd22de"
      },
      "outputs": [
        {
          "output_type": "stream",
          "name": "stdout",
          "text": [
            "+-----+----+------------+-------------+-----------------+---+---------------+-------+-------------+----------+---------------+---------------+\n",
            "|   id| age|hypertension|heart_disease|avg_glucose_level|bmi|stroke_occurred|gender1|ever_married1|work_type1|Residence_type1|smoking_status1|\n",
            "+-----+----+------------+-------------+-----------------+---+---------------+-------+-------------+----------+---------------+---------------+\n",
            "| 9046|67.0|           0|            1|           228.69| 36|              1|    1.0|          0.0|       0.0|            0.0|            2.0|\n",
            "|31112|80.0|           0|            1|           105.92| 32|              1|    1.0|          0.0|       0.0|            1.0|            0.0|\n",
            "|60182|49.0|           0|            0|           171.23| 34|              1|    0.0|          0.0|       0.0|            0.0|            3.0|\n",
            "| 1665|79.0|           1|            0|           174.12| 24|              1|    0.0|          0.0|       1.0|            1.0|            0.0|\n",
            "|56669|81.0|           0|            0|           186.21| 29|              1|    1.0|          0.0|       0.0|            0.0|            2.0|\n",
            "|53882|74.0|           1|            1|            70.09| 27|              1|    1.0|          0.0|       0.0|            1.0|            0.0|\n",
            "|10434|69.0|           0|            0|            94.39| 22|              1|    0.0|          1.0|       0.0|            0.0|            0.0|\n",
            "|60491|78.0|           0|            0|            58.57| 24|              1|    0.0|          0.0|       0.0|            0.0|            1.0|\n",
            "|12109|81.0|           1|            0|            80.43| 29|              1|    0.0|          0.0|       0.0|            1.0|            0.0|\n",
            "|12095|61.0|           0|            1|           120.46| 36|              1|    0.0|          0.0|       3.0|            1.0|            3.0|\n",
            "|12175|54.0|           0|            0|           104.51| 27|              1|    0.0|          0.0|       0.0|            0.0|            3.0|\n",
            "| 5317|79.0|           0|            1|           214.09| 28|              1|    0.0|          0.0|       0.0|            0.0|            0.0|\n",
            "|58202|50.0|           1|            0|           167.41| 30|              1|    0.0|          0.0|       1.0|            1.0|            0.0|\n",
            "|56112|64.0|           0|            1|           191.61| 37|              1|    1.0|          0.0|       0.0|            0.0|            3.0|\n",
            "|34120|75.0|           1|            0|           221.29| 25|              1|    1.0|          0.0|       0.0|            0.0|            3.0|\n",
            "|27458|60.0|           0|            0|            89.22| 37|              1|    0.0|          1.0|       0.0|            0.0|            0.0|\n",
            "|70630|71.0|           0|            0|           193.94| 22|              1|    0.0|          0.0|       3.0|            1.0|            3.0|\n",
            "|13861|52.0|           1|            0|           233.29| 48|              1|    0.0|          0.0|       1.0|            0.0|            0.0|\n",
            "|68794|79.0|           0|            0|            228.7| 26|              1|    0.0|          0.0|       1.0|            0.0|            0.0|\n",
            "|64778|82.0|           0|            1|            208.3| 32|              1|    1.0|          0.0|       0.0|            1.0|            1.0|\n",
            "+-----+----+------------+-------------+-----------------+---+---------------+-------+-------------+----------+---------------+---------------+\n",
            "only showing top 20 rows\n",
            "\n"
          ]
        }
      ],
      "source": [
        "df.show()"
      ]
    },
    {
      "cell_type": "code",
      "execution_count": null,
      "metadata": {
        "id": "ME5Pm-YIdPr0",
        "colab": {
          "base_uri": "https://localhost:8080/"
        },
        "outputId": "96cb7cce-0aa9-4882-993d-62cfd24376d6"
      },
      "outputs": [
        {
          "output_type": "stream",
          "name": "stdout",
          "text": [
            "The DataFrame has 4909 rows and 12 columns.\n"
          ]
        }
      ],
      "source": [
        "num_rows = df.count()\n",
        "num_cols = len(df.columns)\n",
        "print(f'The DataFrame has {num_rows} rows and {num_cols} columns.')"
      ]
    },
    {
      "cell_type": "markdown",
      "source": [
        "#*CREATE TABLE FOR ANALYSING THE DATAFRAME*#"
      ],
      "metadata": {
        "id": "zB76ZvNp0ySg"
      }
    },
    {
      "cell_type": "code",
      "execution_count": null,
      "metadata": {
        "id": "6KHdaAIwbyVq"
      },
      "outputs": [],
      "source": [
        "df.createOrReplaceTempView(\"heart_stroke\")"
      ]
    },
    {
      "cell_type": "code",
      "execution_count": null,
      "metadata": {
        "id": "vZdnza-QcCO7",
        "colab": {
          "base_uri": "https://localhost:8080/"
        },
        "outputId": "6190aae0-afbd-4ec7-b200-5f0c03f84efd"
      },
      "outputs": [
        {
          "output_type": "stream",
          "name": "stdout",
          "text": [
            "+-----+\n",
            "|   id|\n",
            "+-----+\n",
            "| 9046|\n",
            "|31112|\n",
            "|60182|\n",
            "|56669|\n",
            "|53882|\n",
            "|10434|\n",
            "|60491|\n",
            "|12109|\n",
            "|12095|\n",
            "|12175|\n",
            "| 5317|\n",
            "|58202|\n",
            "|56112|\n",
            "|34120|\n",
            "|27458|\n",
            "|70630|\n",
            "|13861|\n",
            "|68794|\n",
            "|64778|\n",
            "| 4219|\n",
            "+-----+\n",
            "only showing top 20 rows\n",
            "\n"
          ]
        }
      ],
      "source": [
        "length_df=spark.sql(\"SELECT id from heart_stroke where id>2000\")\n",
        "length_df.show()"
      ]
    },
    {
      "cell_type": "code",
      "execution_count": null,
      "metadata": {
        "id": "lWdddIM3gDIi",
        "colab": {
          "base_uri": "https://localhost:8080/"
        },
        "outputId": "60f1de48-d6de-46f4-8042-fa6d219e1f52"
      },
      "outputs": [
        {
          "output_type": "stream",
          "name": "stdout",
          "text": [
            "+-----+----+------------+-------------+-----------------+---+---------------+-------+-------------+----------+---------------+---------------+\n",
            "|   id| age|hypertension|heart_disease|avg_glucose_level|bmi|stroke_occurred|gender1|ever_married1|work_type1|Residence_type1|smoking_status1|\n",
            "+-----+----+------------+-------------+-----------------+---+---------------+-------+-------------+----------+---------------+---------------+\n",
            "| 9046|67.0|           0|            1|           228.69| 36|              1|    1.0|          0.0|       0.0|            0.0|            2.0|\n",
            "|31112|80.0|           0|            1|           105.92| 32|              1|    1.0|          0.0|       0.0|            1.0|            0.0|\n",
            "|60182|49.0|           0|            0|           171.23| 34|              1|    0.0|          0.0|       0.0|            0.0|            3.0|\n",
            "| 1665|79.0|           1|            0|           174.12| 24|              1|    0.0|          0.0|       1.0|            1.0|            0.0|\n",
            "|56669|81.0|           0|            0|           186.21| 29|              1|    1.0|          0.0|       0.0|            0.0|            2.0|\n",
            "|53882|74.0|           1|            1|            70.09| 27|              1|    1.0|          0.0|       0.0|            1.0|            0.0|\n",
            "|10434|69.0|           0|            0|            94.39| 22|              1|    0.0|          1.0|       0.0|            0.0|            0.0|\n",
            "|60491|78.0|           0|            0|            58.57| 24|              1|    0.0|          0.0|       0.0|            0.0|            1.0|\n",
            "|12109|81.0|           1|            0|            80.43| 29|              1|    0.0|          0.0|       0.0|            1.0|            0.0|\n",
            "|12095|61.0|           0|            1|           120.46| 36|              1|    0.0|          0.0|       3.0|            1.0|            3.0|\n",
            "|12175|54.0|           0|            0|           104.51| 27|              1|    0.0|          0.0|       0.0|            0.0|            3.0|\n",
            "| 5317|79.0|           0|            1|           214.09| 28|              1|    0.0|          0.0|       0.0|            0.0|            0.0|\n",
            "|58202|50.0|           1|            0|           167.41| 30|              1|    0.0|          0.0|       1.0|            1.0|            0.0|\n",
            "|56112|64.0|           0|            1|           191.61| 37|              1|    1.0|          0.0|       0.0|            0.0|            3.0|\n",
            "|34120|75.0|           1|            0|           221.29| 25|              1|    1.0|          0.0|       0.0|            0.0|            3.0|\n",
            "|27458|60.0|           0|            0|            89.22| 37|              1|    0.0|          1.0|       0.0|            0.0|            0.0|\n",
            "|70630|71.0|           0|            0|           193.94| 22|              1|    0.0|          0.0|       3.0|            1.0|            3.0|\n",
            "|13861|52.0|           1|            0|           233.29| 48|              1|    0.0|          0.0|       1.0|            0.0|            0.0|\n",
            "|68794|79.0|           0|            0|            228.7| 26|              1|    0.0|          0.0|       1.0|            0.0|            0.0|\n",
            "|64778|82.0|           0|            1|            208.3| 32|              1|    1.0|          0.0|       0.0|            1.0|            1.0|\n",
            "+-----+----+------------+-------------+-----------------+---+---------------+-------+-------------+----------+---------------+---------------+\n",
            "only showing top 20 rows\n",
            "\n"
          ]
        }
      ],
      "source": [
        "df.show()"
      ]
    },
    {
      "cell_type": "code",
      "execution_count": null,
      "metadata": {
        "id": "Wy7P_OwwjhLy",
        "colab": {
          "base_uri": "https://localhost:8080/"
        },
        "outputId": "67098e0e-5c7c-4f4c-ff9a-12904c905f0a"
      },
      "outputs": [
        {
          "output_type": "stream",
          "name": "stdout",
          "text": [
            "root\n",
            " |-- id: integer (nullable = true)\n",
            " |-- age: double (nullable = true)\n",
            " |-- hypertension: integer (nullable = true)\n",
            " |-- heart_disease: integer (nullable = true)\n",
            " |-- avg_glucose_level: double (nullable = true)\n",
            " |-- bmi: integer (nullable = true)\n",
            " |-- stroke_occurred: integer (nullable = true)\n",
            " |-- gender1: double (nullable = false)\n",
            " |-- ever_married1: double (nullable = false)\n",
            " |-- work_type1: double (nullable = false)\n",
            " |-- Residence_type1: double (nullable = false)\n",
            " |-- smoking_status1: double (nullable = false)\n",
            "\n"
          ]
        }
      ],
      "source": [
        "df.printSchema()"
      ]
    },
    {
      "cell_type": "markdown",
      "source": [
        "#*Visualization*#"
      ],
      "metadata": {
        "id": "7LjjpOXjYyJl"
      }
    },
    {
      "cell_type": "code",
      "source": [
        "# Compute the counts of each category\n",
        "stroke_counts = df.groupBy(\"stroke_occurred\").count()"
      ],
      "metadata": {
        "id": "EBllfuNdYxbm"
      },
      "execution_count": null,
      "outputs": []
    },
    {
      "cell_type": "code",
      "source": [
        "# Extract the category names and counts as lists\n",
        "categories = stroke_counts.select(\"stroke_occurred\").rdd.flatMap(lambda x: x).collect()\n",
        "counts = stroke_counts.select(\"count\").rdd.flatMap(lambda x: x).collect()"
      ],
      "metadata": {
        "id": "lFoV2Fx3Y8xy"
      },
      "execution_count": null,
      "outputs": []
    },
    {
      "cell_type": "code",
      "source": [
        "# Create a pie chart\n",
        "import matplotlib.pyplot as plt\n",
        "plt.figure(figsize=(6, 6))\n",
        "plt.pie(counts, labels=categories, autopct='%1.1f%%', startangle=90)\n",
        "plt.title(\"Pie Chart Based on stroke_occurred Counts\")\n",
        "plt.axis('equal')\n",
        "\n",
        "# Show the pie chart\n",
        "plt.show()"
      ],
      "metadata": {
        "colab": {
          "base_uri": "https://localhost:8080/",
          "height": 527
        },
        "id": "4kBYvrnLZEJp",
        "outputId": "c466e720-a8d0-43c4-a7bb-c1041f7298ce"
      },
      "execution_count": null,
      "outputs": [
        {
          "output_type": "display_data",
          "data": {
            "text/plain": [
              "<Figure size 600x600 with 1 Axes>"
            ],
            "image/png": "[encoded data removed]"
          },
          "metadata": {}
        }
      ]
    },
    {
      "cell_type": "markdown",
      "source": [
        "#*Create the Feature Vector and Divide the Dataset*#"
      ],
      "metadata": {
        "id": "E1UtJWwxZeqz"
      }
    },
    {
      "cell_type": "code",
      "source": [
        "df=df.withColumnRenamed('stroke_occurred','LABEL')"
      ],
      "metadata": {
        "id": "cqqLRx1fZeqz"
      },
      "execution_count": null,
      "outputs": []
    },
    {
      "cell_type": "code",
      "source": [
        "Features_List =['age','hypertension','heart_disease','avg_glucose_level','bmi','gender1','ever_married1','work_type1','Residence_type1','smoking_status1']"
      ],
      "metadata": {
        "id": "CczsyPK8Zeq0"
      },
      "execution_count": null,
      "outputs": []
    },
    {
      "cell_type": "code",
      "source": [
        "assembler = VectorAssembler(inputCols = Features_List,outputCol = 'feature_vector')\n",
        "dataframe = assembler.transform(df)\n",
        "df.show()"
      ],
      "metadata": {
        "colab": {
          "base_uri": "https://localhost:8080/"
        },
        "outputId": "5d590936-fece-4d31-a678-c7c5de2ffa7e",
        "id": "K6beth5ZZeq0"
      },
      "execution_count": null,
      "outputs": [
        {
          "output_type": "stream",
          "name": "stdout",
          "text": [
            "+-----+----+------------+-------------+-----------------+---+-----+-------+-------------+----------+---------------+---------------+\n",
            "|   id| age|hypertension|heart_disease|avg_glucose_level|bmi|LABEL|gender1|ever_married1|work_type1|Residence_type1|smoking_status1|\n",
            "+-----+----+------------+-------------+-----------------+---+-----+-------+-------------+----------+---------------+---------------+\n",
            "| 9046|67.0|           0|            1|           228.69| 36|    1|    1.0|          0.0|       0.0|            0.0|            2.0|\n",
            "|31112|80.0|           0|            1|           105.92| 32|    1|    1.0|          0.0|       0.0|            1.0|            0.0|\n",
            "|60182|49.0|           0|            0|           171.23| 34|    1|    0.0|          0.0|       0.0|            0.0|            3.0|\n",
            "| 1665|79.0|           1|            0|           174.12| 24|    1|    0.0|          0.0|       1.0|            1.0|            0.0|\n",
            "|56669|81.0|           0|            0|           186.21| 29|    1|    1.0|          0.0|       0.0|            0.0|            2.0|\n",
            "|53882|74.0|           1|            1|            70.09| 27|    1|    1.0|          0.0|       0.0|            1.0|            0.0|\n",
            "|10434|69.0|           0|            0|            94.39| 22|    1|    0.0|          1.0|       0.0|            0.0|            0.0|\n",
            "|60491|78.0|           0|            0|            58.57| 24|    1|    0.0|          0.0|       0.0|            0.0|            1.0|\n",
            "|12109|81.0|           1|            0|            80.43| 29|    1|    0.0|          0.0|       0.0|            1.0|            0.0|\n",
            "|12095|61.0|           0|            1|           120.46| 36|    1|    0.0|          0.0|       3.0|            1.0|            3.0|\n",
            "|12175|54.0|           0|            0|           104.51| 27|    1|    0.0|          0.0|       0.0|            0.0|            3.0|\n",
            "| 5317|79.0|           0|            1|           214.09| 28|    1|    0.0|          0.0|       0.0|            0.0|            0.0|\n",
            "|58202|50.0|           1|            0|           167.41| 30|    1|    0.0|          0.0|       1.0|            1.0|            0.0|\n",
            "|56112|64.0|           0|            1|           191.61| 37|    1|    1.0|          0.0|       0.0|            0.0|            3.0|\n",
            "|34120|75.0|           1|            0|           221.29| 25|    1|    1.0|          0.0|       0.0|            0.0|            3.0|\n",
            "|27458|60.0|           0|            0|            89.22| 37|    1|    0.0|          1.0|       0.0|            0.0|            0.0|\n",
            "|70630|71.0|           0|            0|           193.94| 22|    1|    0.0|          0.0|       3.0|            1.0|            3.0|\n",
            "|13861|52.0|           1|            0|           233.29| 48|    1|    0.0|          0.0|       1.0|            0.0|            0.0|\n",
            "|68794|79.0|           0|            0|            228.7| 26|    1|    0.0|          0.0|       1.0|            0.0|            0.0|\n",
            "|64778|82.0|           0|            1|            208.3| 32|    1|    1.0|          0.0|       0.0|            1.0|            1.0|\n",
            "+-----+----+------------+-------------+-----------------+---+-----+-------+-------------+----------+---------------+---------------+\n",
            "only showing top 20 rows\n",
            "\n"
          ]
        }
      ]
    },
    {
      "cell_type": "code",
      "source": [
        "dataframe.show(5)"
      ],
      "metadata": {
        "colab": {
          "base_uri": "https://localhost:8080/"
        },
        "outputId": "5d94bf2b-2d2c-4ca4-c1da-5eef49f6d781",
        "id": "zrQ7gnAKZeq0"
      },
      "execution_count": null,
      "outputs": [
        {
          "output_type": "stream",
          "name": "stdout",
          "text": [
            "+-----+----+------------+-------------+-----------------+---+-----+-------+-------------+----------+---------------+---------------+--------------------+\n",
            "|   id| age|hypertension|heart_disease|avg_glucose_level|bmi|LABEL|gender1|ever_married1|work_type1|Residence_type1|smoking_status1|      feature_vector|\n",
            "+-----+----+------------+-------------+-----------------+---+-----+-------+-------------+----------+---------------+---------------+--------------------+\n",
            "| 9046|67.0|           0|            1|           228.69| 36|    1|    1.0|          0.0|       0.0|            0.0|            2.0|[67.0,0.0,1.0,228...|\n",
            "|31112|80.0|           0|            1|           105.92| 32|    1|    1.0|          0.0|       0.0|            1.0|            0.0|[80.0,0.0,1.0,105...|\n",
            "|60182|49.0|           0|            0|           171.23| 34|    1|    0.0|          0.0|       0.0|            0.0|            3.0|(10,[0,3,4,9],[49...|\n",
            "| 1665|79.0|           1|            0|           174.12| 24|    1|    0.0|          0.0|       1.0|            1.0|            0.0|[79.0,1.0,0.0,174...|\n",
            "|56669|81.0|           0|            0|           186.21| 29|    1|    1.0|          0.0|       0.0|            0.0|            2.0|(10,[0,3,4,5,9],[...|\n",
            "+-----+----+------------+-------------+-----------------+---+-----+-------+-------------+----------+---------------+---------------+--------------------+\n",
            "only showing top 5 rows\n",
            "\n"
          ]
        }
      ]
    },
    {
      "cell_type": "code",
      "source": [
        "df_train,df_test= dataframe.randomSplit([0.3, 0.7], seed = 123)"
      ],
      "metadata": {
        "id": "sxMyNEgnZeq0"
      },
      "execution_count": null,
      "outputs": []
    },
    {
      "cell_type": "code",
      "source": [
        "df_test.count()"
      ],
      "metadata": {
        "colab": {
          "base_uri": "https://localhost:8080/"
        },
        "outputId": "5ff156ca-4b8d-4d82-a98a-fd764fcd71bc",
        "id": "4Efj95WGZeq0"
      },
      "execution_count": null,
      "outputs": [
        {
          "output_type": "execute_result",
          "data": {
            "text/plain": [
              "3425"
            ]
          },
          "metadata": {},
          "execution_count": 47
        }
      ]
    },
    {
      "cell_type": "code",
      "source": [
        "df_train.count()"
      ],
      "metadata": {
        "colab": {
          "base_uri": "https://localhost:8080/"
        },
        "outputId": "e62c7195-0956-4b4a-80db-8448112b8242",
        "id": "eTd9kMQQZeq0"
      },
      "execution_count": null,
      "outputs": [
        {
          "output_type": "execute_result",
          "data": {
            "text/plain": [
              "1484"
            ]
          },
          "metadata": {},
          "execution_count": 48
        }
      ]
    },
    {
      "cell_type": "markdown",
      "source": [
        "#*APPLYING ML ALGORITHM TO THE PREPROCESSED DATA*"
      ],
      "metadata": {
        "id": "mIbM3IcM1Cz1"
      }
    },
    {
      "cell_type": "markdown",
      "source": [
        "DECISION TREES"
      ],
      "metadata": {
        "id": "6BZzZclq4BHv"
      }
    },
    {
      "cell_type": "code",
      "source": [
        "from pyspark import SparkContext, SparkConf\n",
        "from pyspark.sql import SparkSession\n",
        "from pyspark.sql.types import IntegerType, DoubleType\n",
        "from pyspark.ml.feature import StringIndexer, VectorAssembler,StandardScaler\n",
        "from pyspark.ml.classification import LogisticRegression, DecisionTreeClassifier, RandomForestClassifier, GBTClassifier\n",
        "from pyspark.ml import Pipeline\n",
        "from pyspark.ml.evaluation import MulticlassClassificationEvaluator\n",
        "from pyspark.mllib.evaluation import MulticlassMetrics\n",
        "from pyspark.mllib.util import MLUtils\n",
        "import seaborn as sns"
      ],
      "metadata": {
        "id": "duB0IbZZ4NT1"
      },
      "execution_count": null,
      "outputs": []
    },
    {
      "cell_type": "code",
      "source": [
        "Decision_Tree_Classifier = DecisionTreeClassifier(labelCol = 'LABEL', featuresCol = 'feature_vector')\n",
        "Decision_Tree_Model = Decision_Tree_Classifier.fit(df_train)"
      ],
      "metadata": {
        "id": "09TmZXbn30kr"
      },
      "execution_count": null,
      "outputs": []
    },
    {
      "cell_type": "code",
      "source": [
        "Decision_Tree_Prediction = Decision_Tree_Model.transform(df_test)"
      ],
      "metadata": {
        "id": "TnI1WUWH3j-A"
      },
      "execution_count": null,
      "outputs": []
    },
    {
      "cell_type": "code",
      "source": [
        "Decision_Tree_Prediction.show(5)"
      ],
      "metadata": {
        "colab": {
          "base_uri": "https://localhost:8080/"
        },
        "id": "ZS5X_K1i2ntn",
        "outputId": "19bb9146-395f-4f3b-ffe2-c425f2c84617"
      },
      "execution_count": null,
      "outputs": [
        {
          "output_type": "stream",
          "name": "stdout",
          "text": [
            "+---+----+------------+-------------+-----------------+---+-----+-------+-------------+----------+---------------+---------------+--------------------+-------------+--------------------+----------+\n",
            "| id| age|hypertension|heart_disease|avg_glucose_level|bmi|LABEL|gender1|ever_married1|work_type1|Residence_type1|smoking_status1|      feature_vector|rawPrediction|         probability|prediction|\n",
            "+---+----+------------+-------------+-----------------+---+-----+-------+-------------+----------+---------------+---------------+--------------------+-------------+--------------------+----------+\n",
            "| 84|55.0|           0|            0|            89.17| 31|    0|    1.0|          0.0|       0.0|            0.0|            0.0|(10,[0,3,4,5],[55...| [262.0,16.0]|[0.94244604316546...|       0.0|\n",
            "| 91|42.0|           0|            0|            98.53| 18|    0|    0.0|          1.0|       0.0|            0.0|            0.0|(10,[0,3,4,6],[42...|  [941.0,8.0]|[0.99157007376185...|       0.0|\n",
            "| 99|31.0|           0|            0|           108.89| 52|    0|    0.0|          1.0|       0.0|            0.0|            1.0|(10,[0,3,4,6,9],[...|  [941.0,8.0]|[0.99157007376185...|       0.0|\n",
            "|156|33.0|           0|            0|            86.97| 42|    0|    0.0|          0.0|       0.0|            1.0|            0.0|(10,[0,3,4,8],[33...|  [941.0,8.0]|[0.99157007376185...|       0.0|\n",
            "|163|20.0|           0|            0|            94.67| 28|    0|    0.0|          1.0|       0.0|            1.0|            1.0|[20.0,0.0,0.0,94....|  [941.0,8.0]|[0.99157007376185...|       0.0|\n",
            "+---+----+------------+-------------+-----------------+---+-----+-------+-------------+----------+---------------+---------------+--------------------+-------------+--------------------+----------+\n",
            "only showing top 5 rows\n",
            "\n"
          ]
        }
      ]
    },
    {
      "cell_type": "code",
      "source": [
        "Decision_Tree_Evaluator = MulticlassClassificationEvaluator(labelCol =  'LABEL', predictionCol = 'prediction')"
      ],
      "metadata": {
        "id": "XqNngrvU4Tv3"
      },
      "execution_count": null,
      "outputs": []
    },
    {
      "cell_type": "code",
      "source": [
        "Decision_Tree_Accuracy = Decision_Tree_Evaluator.evaluate(Decision_Tree_Prediction)"
      ],
      "metadata": {
        "id": "a8WuGeWQ4Vqh"
      },
      "execution_count": null,
      "outputs": []
    },
    {
      "cell_type": "code",
      "source": [
        "print('Decision Tree Accuracy is : ' + str(Decision_Tree_Accuracy * 100))\n",
        "print('Test Error is : ' + str(1 - Decision_Tree_Accuracy))"
      ],
      "metadata": {
        "colab": {
          "base_uri": "https://localhost:8080/"
        },
        "id": "_MzIcoHn4XZZ",
        "outputId": "ca528a91-0810-4142-86f4-1a2b508908e0"
      },
      "execution_count": null,
      "outputs": [
        {
          "output_type": "stream",
          "name": "stdout",
          "text": [
            "Decision Tree Accuracy is : 93.42664434206254\n",
            "Test Error is : 0.06573355657937452\n"
          ]
        }
      ]
    },
    {
      "cell_type": "markdown",
      "source": [
        "RANDOM FOREST"
      ],
      "metadata": {
        "id": "ZYvzVEMa4c63"
      }
    },
    {
      "cell_type": "code",
      "source": [
        "Random_Forest_Classifier = RandomForestClassifier(labelCol = 'LABEL', featuresCol = 'feature_vector',  maxDepth = 5,\n",
        "    maxBins = 32, numTrees = 500)\n",
        "\n",
        "Random_Forest_Model = Random_Forest_Classifier.fit(df_train)"
      ],
      "metadata": {
        "id": "pf4ZXgCU4cF8"
      },
      "execution_count": null,
      "outputs": []
    },
    {
      "cell_type": "code",
      "source": [
        "Random_Forest_Prediction = Random_Forest_Model.transform(df_test)"
      ],
      "metadata": {
        "id": "GwQj5xII4ZDq"
      },
      "execution_count": null,
      "outputs": []
    },
    {
      "cell_type": "code",
      "source": [
        "Random_Forest_Prediction.show(5)"
      ],
      "metadata": {
        "colab": {
          "base_uri": "https://localhost:8080/"
        },
        "id": "zMNjdQtz4jJh",
        "outputId": "a09892fb-e968-4880-a48e-3bb472240142"
      },
      "execution_count": null,
      "outputs": [
        {
          "output_type": "stream",
          "name": "stdout",
          "text": [
            "+---+----+------------+-------------+-----------------+---+-----+-------+-------------+----------+---------------+---------------+--------------------+--------------------+--------------------+----------+\n",
            "| id| age|hypertension|heart_disease|avg_glucose_level|bmi|LABEL|gender1|ever_married1|work_type1|Residence_type1|smoking_status1|      feature_vector|       rawPrediction|         probability|prediction|\n",
            "+---+----+------------+-------------+-----------------+---+-----+-------+-------------+----------+---------------+---------------+--------------------+--------------------+--------------------+----------+\n",
            "| 84|55.0|           0|            0|            89.17| 31|    0|    1.0|          0.0|       0.0|            0.0|            0.0|(10,[0,3,4,5],[55...|[485.661124841626...|[0.97132224968325...|       0.0|\n",
            "| 91|42.0|           0|            0|            98.53| 18|    0|    0.0|          1.0|       0.0|            0.0|            0.0|(10,[0,3,4,6],[42...|[493.168205934393...|[0.98633641186878...|       0.0|\n",
            "| 99|31.0|           0|            0|           108.89| 52|    0|    0.0|          1.0|       0.0|            0.0|            1.0|(10,[0,3,4,6,9],[...|[492.494298360449...|[0.98498859672089...|       0.0|\n",
            "|156|33.0|           0|            0|            86.97| 42|    0|    0.0|          0.0|       0.0|            1.0|            0.0|(10,[0,3,4,8],[33...|[490.900419853126...|[0.98180083970625...|       0.0|\n",
            "|163|20.0|           0|            0|            94.67| 28|    0|    0.0|          1.0|       0.0|            1.0|            1.0|[20.0,0.0,0.0,94....|[492.657831563105...|[0.98531566312621...|       0.0|\n",
            "+---+----+------------+-------------+-----------------+---+-----+-------+-------------+----------+---------------+---------------+--------------------+--------------------+--------------------+----------+\n",
            "only showing top 5 rows\n",
            "\n"
          ]
        }
      ]
    },
    {
      "cell_type": "code",
      "source": [
        "Random_Forest_Evaluator = MulticlassClassificationEvaluator(labelCol = 'LABEL', predictionCol = 'prediction')"
      ],
      "metadata": {
        "id": "h36lYhcf4k1T"
      },
      "execution_count": null,
      "outputs": []
    },
    {
      "cell_type": "code",
      "source": [
        "Random_Forest_Accuracy = Random_Forest_Evaluator.evaluate(Random_Forest_Prediction)"
      ],
      "metadata": {
        "id": "C8IAmtbk4mxH"
      },
      "execution_count": null,
      "outputs": []
    },
    {
      "cell_type": "code",
      "source": [
        "\n",
        "print('Random Forest Accuracy is : ' + str(Random_Forest_Accuracy * 100))\n",
        "print('Test Error is : ' + str(1 - Random_Forest_Accuracy))"
      ],
      "metadata": {
        "colab": {
          "base_uri": "https://localhost:8080/"
        },
        "id": "sdii9qU94oKR",
        "outputId": "c3e07bb5-edd4-4fd1-90fe-83e98236e39e"
      },
      "execution_count": null,
      "outputs": [
        {
          "output_type": "stream",
          "name": "stdout",
          "text": [
            "Random Forest Accuracy is : 93.47968188255801\n",
            "Test Error is : 0.06520318117441992\n"
          ]
        }
      ]
    },
    {
      "cell_type": "markdown",
      "source": [
        "LOGISTIC REGRESSION\n"
      ],
      "metadata": {
        "id": "8vI9i2Sb43My"
      }
    },
    {
      "cell_type": "code",
      "source": [
        "Logistic_Regression_Classifier = LogisticRegression(regParam = 0.3, labelCol = \"LABEL\", featuresCol = 'feature_vector', \\\n",
        "                                       maxIter = 20,  elasticNetParam = 0.8)"
      ],
      "metadata": {
        "id": "5p82JpKS4pxa"
      },
      "execution_count": null,
      "outputs": []
    },
    {
      "cell_type": "code",
      "source": [
        "Logistic_Regression_Model = Logistic_Regression_Classifier.fit(df_train)"
      ],
      "metadata": {
        "id": "wJutt_1f47JG"
      },
      "execution_count": null,
      "outputs": []
    },
    {
      "cell_type": "code",
      "source": [
        "Logistic_Regression_Prediction = Logistic_Regression_Model.transform(df_test)\n",
        "\n",
        "Logistic_Regression_Prediction.show(5)"
      ],
      "metadata": {
        "colab": {
          "base_uri": "https://localhost:8080/"
        },
        "id": "rpJrOf8148xS",
        "outputId": "8539c0f5-46ef-4643-d133-ced35fc16901"
      },
      "execution_count": null,
      "outputs": [
        {
          "output_type": "stream",
          "name": "stdout",
          "text": [
            "+---+----+------------+-------------+-----------------+---+-----+-------+-------------+----------+---------------+---------------+--------------------+--------------------+--------------------+----------+\n",
            "| id| age|hypertension|heart_disease|avg_glucose_level|bmi|LABEL|gender1|ever_married1|work_type1|Residence_type1|smoking_status1|      feature_vector|       rawPrediction|         probability|prediction|\n",
            "+---+----+------------+-------------+-----------------+---+-----+-------+-------------+----------+---------------+---------------+--------------------+--------------------+--------------------+----------+\n",
            "| 84|55.0|           0|            0|            89.17| 31|    0|    1.0|          0.0|       0.0|            0.0|            0.0|(10,[0,3,4,5],[55...|[3.18438964879703...|[0.96024258760107...|       0.0|\n",
            "| 91|42.0|           0|            0|            98.53| 18|    0|    0.0|          1.0|       0.0|            0.0|            0.0|(10,[0,3,4,6],[42...|[3.18438964879703...|[0.96024258760107...|       0.0|\n",
            "| 99|31.0|           0|            0|           108.89| 52|    0|    0.0|          1.0|       0.0|            0.0|            1.0|(10,[0,3,4,6,9],[...|[3.18438964879703...|[0.96024258760107...|       0.0|\n",
            "|156|33.0|           0|            0|            86.97| 42|    0|    0.0|          0.0|       0.0|            1.0|            0.0|(10,[0,3,4,8],[33...|[3.18438964879703...|[0.96024258760107...|       0.0|\n",
            "|163|20.0|           0|            0|            94.67| 28|    0|    0.0|          1.0|       0.0|            1.0|            1.0|[20.0,0.0,0.0,94....|[3.18438964879703...|[0.96024258760107...|       0.0|\n",
            "+---+----+------------+-------------+-----------------+---+-----+-------+-------------+----------+---------------+---------------+--------------------+--------------------+--------------------+----------+\n",
            "only showing top 5 rows\n",
            "\n"
          ]
        }
      ]
    },
    {
      "cell_type": "code",
      "source": [
        "Logistic_Regression_Evaluator = MulticlassClassificationEvaluator(labelCol = \"LABEL\", predictionCol = \"prediction\", \\\n",
        "                                                     metricName = \"accuracy\")"
      ],
      "metadata": {
        "id": "Z3WYbMmi4-He"
      },
      "execution_count": null,
      "outputs": []
    },
    {
      "cell_type": "code",
      "source": [
        "Logistic_Regression_Accuracy = Logistic_Regression_Evaluator.evaluate(Logistic_Regression_Prediction)"
      ],
      "metadata": {
        "id": "6h-KUzwL5Co0"
      },
      "execution_count": null,
      "outputs": []
    },
    {
      "cell_type": "code",
      "source": [
        "print('Logistic Regression Accuracy is : ' + str(Logistic_Regression_Accuracy * 100))\n",
        "print('Test Error is : ' + str(1 - Logistic_Regression_Accuracy))"
      ],
      "metadata": {
        "colab": {
          "base_uri": "https://localhost:8080/"
        },
        "id": "C_HKNrJV5D2r",
        "outputId": "cba633c6-104e-4dd0-d97a-d48cd2a872d7"
      },
      "execution_count": null,
      "outputs": [
        {
          "output_type": "stream",
          "name": "stdout",
          "text": [
            "Logistic Regression Accuracy is : 95.62043795620438\n",
            "Test Error is : 0.04379562043795615\n"
          ]
        }
      ]
    },
    {
      "cell_type": "code",
      "source": [
        "LR=Logistic_Regression_Accuracy * 100\n",
        "RF=Random_Forest_Accuracy * 100\n",
        "DT=Decision_Tree_Accuracy * 100"
      ],
      "metadata": {
        "id": "Uk8rDvUM8R2p"
      },
      "execution_count": null,
      "outputs": []
    },
    {
      "cell_type": "code",
      "source": [
        "acc = [LR, DT,RF]\n",
        "models = ['LR','DT','RF']"
      ],
      "metadata": {
        "id": "ZfsOmRY68uuJ"
      },
      "execution_count": null,
      "outputs": []
    },
    {
      "cell_type": "code",
      "source": [
        "import seaborn as sns\n",
        "import pandas as pd\n",
        "sns.barplot(data=pd.DataFrame({\"algorithm\":models,\"accuracy\":acc}),x=\"algorithm\",y=\"accuracy\")"
      ],
      "metadata": {
        "colab": {
          "base_uri": "https://localhost:8080/",
          "height": 470
        },
        "id": "bWJ_DjWo9iIy",
        "outputId": "c2d5b0f0-1fda-46f3-9448-083a9ca48728"
      },
      "execution_count": null,
      "outputs": [
        {
          "output_type": "execute_result",
          "data": {
            "text/plain": [
              "<Axes: xlabel='algorithm', ylabel='accuracy'>"
            ]
          },
          "metadata": {},
          "execution_count": 70
        },
        {
          "output_type": "display_data",
          "data": {
            "text/plain": [
              "<Figure size 640x480 with 1 Axes>"
            ],
            "image/png": "[encoded data removed]"
          },
          "metadata": {}
        }
      ]
    },
    {
      "cell_type": "markdown",
      "source": [
        "#*Using pipeline concept*#"
      ],
      "metadata": {
        "id": "zz7VJKn56HIZ"
      }
    },
    {
      "cell_type": "code",
      "source": [
        "from pyspark.ml import Pipeline\n",
        "from pyspark.ml.tuning import CrossValidator, ParamGridBuilder\n",
        "\n",
        "train_data, test_data = df.randomSplit([0.8, 0.2], seed=42)\n",
        "\n",
        "stag_dt=[assembler,Decision_Tree_Model]\n",
        "stag_lr=[assembler,Logistic_Regression_Model]\n",
        "stag_rf=[assembler,Random_Forest_Model]\n",
        "\n",
        "DT = Pipeline(stages=stag_dt)\n",
        "LR = Pipeline(stages=stag_lr)\n",
        "RF = Pipeline(stages=stag_rf)\n",
        "\n",
        "DT=DT.fit(train_data)\n",
        "LR=LR.fit(train_data)\n",
        "RF=RF.fit(train_data)\n",
        "\n",
        "dt_pred,lr_pred,rf_pred= DT.transform(test_data) , LR.transform(test_data), RF.transform(test_data)\n",
        "\n",
        "evaluator = MulticlassClassificationEvaluator(labelCol=\"LABEL\", predictionCol=\"prediction\", metricName=\"accuracy\")\n",
        "dt_acc = evaluator.evaluate(dt_pred)\n",
        "lr_acc = evaluator.evaluate(lr_pred)\n",
        "rf_acc = evaluator.evaluate(rf_pred)\n",
        "\n",
        "print(\"\\t\\t\\tTEST ACCURACY\", f\"DECISION TREE : {dt_acc:.2f}\",f\"LOGISTIC REGRESSION : {lr_acc:.2f}\",f\"RANDOM FOREST: {rf_acc:.2f}\",sep='\\n')"
      ],
      "metadata": {
        "colab": {
          "base_uri": "https://localhost:8080/"
        },
        "id": "eSRTAQ9O6Ov1",
        "outputId": "3d9e1d73-da72-4846-be52-16bccb228ffd"
      },
      "execution_count": null,
      "outputs": [
        {
          "output_type": "stream",
          "name": "stdout",
          "text": [
            "\t\t\tTEST ACCURACY\n",
            "DECISION TREE : 0.96\n",
            "LOGISTIC REGRESSION : 0.96\n",
            "RANDOM FOREST: 0.96\n"
          ]
        }
      ]
    },
    {
      "cell_type": "code",
      "source": [
        "acc = [lr_acc,dt_acc,rf_acc]\n",
        "models = ['LR','DT','RF']"
      ],
      "metadata": {
        "id": "n1_uKETz-zV4"
      },
      "execution_count": null,
      "outputs": []
    },
    {
      "cell_type": "code",
      "source": [
        "import seaborn as sns\n",
        "import pandas as pd\n",
        "sns.barplot(data=pd.DataFrame({\"algorithm\":models,\"accuracy\":acc}),x=\"algorithm\",y=\"accuracy\")"
      ],
      "metadata": {
        "colab": {
          "base_uri": "https://localhost:8080/",
          "height": 468
        },
        "id": "stRDuhhH-dEr",
        "outputId": "e3a74853-5f08-4e0e-ea3b-04b78473f3fe"
      },
      "execution_count": null,
      "outputs": [
        {
          "output_type": "execute_result",
          "data": {
            "text/plain": [
              "<Axes: xlabel='algorithm', ylabel='accuracy'>"
            ]
          },
          "metadata": {},
          "execution_count": 73
        },
        {
          "output_type": "display_data",
          "data": {
            "text/plain": [
              "<Figure size 640x480 with 1 Axes>"
            ],
            "image/png": "[encoded data removed]"
          },
          "metadata": {}
        }
      ]
    },
    {
      "cell_type": "markdown",
      "metadata": {
        "id": "8pvH3RlhAHyc"
      },
      "source": [
        "#**ML Models**"
      ]
    },
    {
      "cell_type": "markdown",
      "metadata": {
        "id": "SBX1JxlXJzbC"
      },
      "source": [
        "**NAIVE BAYES ALGORITHM**"
      ]
    },
    {
      "cell_type": "code",
      "execution_count": null,
      "metadata": {
        "id": "cIuKUWznI3iC"
      },
      "outputs": [],
      "source": [
        "from pyspark.ml.classification import NaiveBayes\n",
        "from pyspark.ml.evaluation import MulticlassClassificationEvaluator\n",
        "from pyspark.ml.tuning import ParamGridBuilder, CrossValidator"
      ]
    },
    {
      "cell_type": "code",
      "execution_count": null,
      "metadata": {
        "id": "HB7YpoG2JEcM",
        "colab": {
          "base_uri": "https://localhost:8080/"
        },
        "outputId": "b1fd336d-f51a-4b0c-b99e-37e24d131021"
      },
      "outputs": [
        {
          "output_type": "stream",
          "name": "stdout",
          "text": [
            "Best Model Accuracy: 0.8344525547445255\n"
          ]
        }
      ],
      "source": [
        "nb = NaiveBayes(labelCol=\"LABEL\", featuresCol=\"feature_vector\")\n",
        "\n",
        "# Define a parameter grid for hyperparameter tuning\n",
        "paramGrid = (ParamGridBuilder()\n",
        "             .addGrid(nb.smoothing, [0.0, 0.2, 0.4, 0.6, 0.8, 1.0])  # Tune the smoothing parameter\n",
        "             .build())\n",
        "\n",
        "# Create a cross-validator\n",
        "evaluator = MulticlassClassificationEvaluator(labelCol=\"LABEL\", predictionCol=\"prediction\", metricName=\"accuracy\")\n",
        "crossval = CrossValidator(estimator=nb,\n",
        "                          estimatorParamMaps=paramGrid,\n",
        "                          evaluator=evaluator,\n",
        "                          numFolds=5)  # You can adjust the number of folds\n",
        "\n",
        "# Fit the model to the training data\n",
        "cv_model = crossval.fit(df_train)\n",
        "\n",
        "# Get the best model\n",
        "best_model = cv_model.bestModel\n",
        "\n",
        "# Make predictions on the test data using the best model\n",
        "predictions = best_model.transform(df_test)\n",
        "\n",
        "# Evaluate the best model's performance\n",
        "accuracy = evaluator.evaluate(predictions)\n",
        "print(f\"Best Model Accuracy: {accuracy}\")"
      ]
    },
    {
      "cell_type": "markdown",
      "metadata": {
        "id": "M0hb7QHBKjpn"
      },
      "source": [
        "**DECISION TREE ALGORITHM**"
      ]
    },
    {
      "cell_type": "code",
      "execution_count": null,
      "metadata": {
        "id": "iLIQmKA2KJHu"
      },
      "outputs": [],
      "source": [
        "from pyspark.ml.classification import DecisionTreeClassifier"
      ]
    },
    {
      "cell_type": "code",
      "execution_count": null,
      "metadata": {
        "id": "oe6r-pFkJfPr",
        "colab": {
          "base_uri": "https://localhost:8080/"
        },
        "outputId": "3a1bda36-dfdb-4bb4-cb99-017fc1967560"
      },
      "outputs": [
        {
          "output_type": "stream",
          "name": "stdout",
          "text": [
            "Best Model Accuracy: 0.9535766423357664\n"
          ]
        }
      ],
      "source": [
        "dt = DecisionTreeClassifier(labelCol=\"LABEL\", featuresCol=\"feature_vector\")\n",
        "\n",
        "# Define a parameter grid for hyperparameter tuning\n",
        "paramGrid = (ParamGridBuilder()\n",
        "             .addGrid(dt.maxDepth, [3, 5, 7, 9])  # Tune the maximum depth of the tree\n",
        "             .addGrid(dt.maxBins, [16, 32, 64])  # Tune the maximum number of bins for discretizing continuous features\n",
        "             .build())\n",
        "\n",
        "# Create a cross-validator\n",
        "evaluator = MulticlassClassificationEvaluator(labelCol=\"LABEL\", predictionCol=\"prediction\", metricName=\"accuracy\")\n",
        "crossval = CrossValidator(estimator=dt,\n",
        "                          estimatorParamMaps=paramGrid,\n",
        "                          evaluator=evaluator,\n",
        "                          numFolds=5)  # You can adjust the number of folds\n",
        "\n",
        "# Fit the model to the training data\n",
        "cv_model = crossval.fit(df_train)\n",
        "\n",
        "# Get the best model\n",
        "best_model = cv_model.bestModel\n",
        "\n",
        "# Make predictions on the test data using the best model\n",
        "predictions = best_model.transform(df_test)\n",
        "\n",
        "# Evaluate the best model's performance\n",
        "accuracy = evaluator.evaluate(predictions)\n",
        "print(f\"Best Model Accuracy: {accuracy}\")"
      ]
    },
    {
      "cell_type": "markdown",
      "metadata": {
        "id": "53g4JU8DLcgD"
      },
      "source": [
        "**RANDOM FOREST ALGORITHM**"
      ]
    },
    {
      "cell_type": "code",
      "execution_count": null,
      "metadata": {
        "id": "y7nafNBaL0pM"
      },
      "outputs": [],
      "source": [
        "from pyspark.ml.classification import RandomForestClassifier"
      ]
    },
    {
      "cell_type": "code",
      "execution_count": null,
      "metadata": {
        "colab": {
          "base_uri": "https://localhost:8080/"
        },
        "id": "uMb5xfp6L0rr",
        "outputId": "0fd629df-f57c-41fd-cbad-83521adb6db5"
      },
      "outputs": [
        {
          "output_type": "stream",
          "name": "stdout",
          "text": [
            "Best Model Accuracy: 0.9564963503649635\n"
          ]
        }
      ],
      "source": [
        "# Create a Random Forest model\n",
        "rf = RandomForestClassifier(labelCol=\"LABEL\", featuresCol=\"feature_vector\")\n",
        "\n",
        "# Define a parameter grid for hyperparameter tuning\n",
        "paramGrid = (ParamGridBuilder()\n",
        "             .addGrid(rf.numTrees, [10, 20, 30])  # Tune the number of trees\n",
        "             .addGrid(rf.maxDepth, [5, 10, 15])  # Tune the maximum depth of trees\n",
        "             .build())\n",
        "\n",
        "# Create a cross-validator\n",
        "evaluator = MulticlassClassificationEvaluator(labelCol=\"LABEL\", predictionCol=\"prediction\", metricName=\"accuracy\")\n",
        "crossval = CrossValidator(estimator=rf,\n",
        "                          estimatorParamMaps=paramGrid,\n",
        "                          evaluator=evaluator,\n",
        "                          numFolds=5)  # You can adjust the number of folds\n",
        "\n",
        "# Fit the model to the training data\n",
        "cv_model = crossval.fit(df_train)\n",
        "\n",
        "# Get the best model\n",
        "best_model = cv_model.bestModel\n",
        "\n",
        "# Make predictions on the test data using the best model\n",
        "predictions = best_model.transform(df_test)\n",
        "\n",
        "# Evaluate the best model's performance\n",
        "accuracy = evaluator.evaluate(predictions)\n",
        "print(f\"Best Model Accuracy: {accuracy}\")"
      ]
    },
    {
      "cell_type": "markdown",
      "metadata": {
        "id": "cUK7W5ncMhk4"
      },
      "source": [
        "**LOGISTIC REGRESSSION ALGORITHM**"
      ]
    },
    {
      "cell_type": "code",
      "execution_count": null,
      "metadata": {
        "id": "fl56HHDEL00-"
      },
      "outputs": [],
      "source": [
        "from pyspark.ml.classification import LogisticRegression"
      ]
    },
    {
      "cell_type": "code",
      "execution_count": null,
      "metadata": {
        "id": "jNS5ytXrMmTy",
        "colab": {
          "base_uri": "https://localhost:8080/"
        },
        "outputId": "86464f44-19fb-44d9-b651-d6b60f3de4be"
      },
      "outputs": [
        {
          "output_type": "stream",
          "name": "stdout",
          "text": [
            "Best Model Area Under ROC: 0.8580763358778654\n"
          ]
        }
      ],
      "source": [
        "lr = LogisticRegression(labelCol=\"LABEL\", featuresCol=\"feature_vector\")\n",
        "\n",
        "# Define a parameter grid for hyperparameter tuning\n",
        "paramGrid = (ParamGridBuilder()\n",
        "             .addGrid(lr.regParam, [0.01, 0.1, 1.0])  # Tune the regularization parameter\n",
        "             .addGrid(lr.elasticNetParam, [0.0, 0.5, 1.0])  # Tune the elastic net mixing parameter\n",
        "             .build())\n",
        "\n",
        "# Create a cross-validator\n",
        "evaluator = BinaryClassificationEvaluator(labelCol=\"LABEL\", rawPredictionCol=\"rawPrediction\", metricName=\"areaUnderROC\")\n",
        "crossval = CrossValidator(estimator=lr,\n",
        "                          estimatorParamMaps=paramGrid,\n",
        "                          evaluator=evaluator,\n",
        "                          numFolds=5)  # You can adjust the number of folds\n",
        "\n",
        "# Fit the model to the training data\n",
        "cv_model = crossval.fit(df_train)\n",
        "\n",
        "# Get the best model\n",
        "best_model = cv_model.bestModel\n",
        "\n",
        "# Make predictions on the test data using the best model\n",
        "predictions = best_model.transform(df_test)\n",
        "\n",
        "# Evaluate the best model's performance\n",
        "areaUnderROC = evaluator.evaluate(predictions)\n",
        "print(f\"Best Model Area Under ROC: {areaUnderROC}\")"
      ]
    },
    {
      "cell_type": "code",
      "execution_count": null,
      "metadata": {
        "colab": {
          "base_uri": "https://localhost:8080/",
          "height": 888
        },
        "id": "zhxD5OIxxfim",
        "outputId": "c589042f-91c9-4d03-aed7-11ca72889e58"
      },
      "outputs": [
        {
          "output_type": "display_data",
          "data": {
            "text/plain": [
              "<Figure size 1000x1000 with 1 Axes>"
            ],
            "image/png": "[encoded data removed]"
          },
          "metadata": {}
        }
      ],
      "source": [
        "import matplotlib.pyplot as plt\n",
        "model_names = ['NAIVE BAYES\\n ALGORITHM', 'DECISION TREE\\n ALGORITHM', 'LOGISTIC REGRESSSION\\n ALGORITHM','RANDOM FOREST\\n ALGORITHM']\n",
        "accuracies = [0.5986376385735275,0.9535766423357664,0.8580763358778654, 0.9564963503649635]\n",
        "\n",
        "# Create a bar graph\n",
        "plt.figure(figsize=(10, 10))\n",
        "plt.bar(model_names, accuracies, color=['coral', 'lightblue', 'lightgreen','black'])\n",
        "\n",
        "# Add labels and title\n",
        "plt.xlabel('Models')\n",
        "plt.ylabel('Accuracy')\n",
        "plt.title('Model Vs Accuracy')\n",
        "\n",
        "\n",
        "plt.ylim(0, 1.0)\n",
        "plt.show()\n"
      ]
    }
  ],
  "metadata": {
    "colab": {
      "provenance": []
    },
    "kernelspec": {
      "display_name": "Python 3",
      "name": "python3"
    },
    "language_info": {
      "name": "python"
    }
  },
  "nbformat": 4,
  "nbformat_minor": 0
}